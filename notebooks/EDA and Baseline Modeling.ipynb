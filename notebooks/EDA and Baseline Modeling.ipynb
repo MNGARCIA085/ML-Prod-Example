{
 "cells": [
  {
   "cell_type": "markdown",
   "id": "06b901a2",
   "metadata": {},
   "source": [
    "<!-- ========================= -->\n",
    "<!-- TÍTULO PRINCIPAL CENTRADO -->\n",
    "<!-- ========================= -->\n",
    "\n",
    "<h1 style=\"text-align: center; color: darkblue;\">EDA and Baseline Modeling</h1>"
   ]
  },
  {
   "cell_type": "markdown",
   "id": "11ca8457",
   "metadata": {},
   "source": [
    "### 📑 <font color='blue'> Table of Contents </font>\n",
    "1. [Introduction](#introduction)\n",
    "2. [Setup](#setup)\n",
    "3. [EDA](#EDA)\n",
    "4. [Preprocessing](#preprocessing)\n",
    "5. [Baseline Model](#baseline)\n",
    "6. [Annex](#annex) <br>\n",
    "    A. [Class Imbalance](#imbalance)"
   ]
  },
  {
   "cell_type": "markdown",
   "id": "06996bf0",
   "metadata": {},
   "source": [
    "## <a id=\"introduction\" style=\"color: darkred; text-decoration: none;\">Introduction</a>\n",
    "\n",
    "This notebook is designed as a quick-start template for an AI project. Its main goals are:  \n",
    "\n",
    "**1. Exploratory Data Analysis (EDA):**  \n",
    "   - Understand the dataset  \n",
    "   - Identify patterns, missing values, and basic statistics.\n",
    "\n",
    "**2. Data Preprocessing:**  \n",
    "   - Handle missing values and categorical variables  \n",
    "   - Normalize or scale features if necessary  \n",
    "\n",
    "\n",
    "**3. Baseline Modeling:**  \n",
    "   - Build a simple baseline model for quick prototyping  \n",
    "   - Evaluate basic performance metrics to set a reference  \n",
    "\n",
    "This notebook is intended for fast iteration and provides a starting point for more advanced modeling and experimentation. It emphasizes clarity, reproducibility, and rapid prototyping.\n"
   ]
  },
  {
   "cell_type": "markdown",
   "id": "6721497f",
   "metadata": {},
   "source": [
    "## <a id=\"setup\" style=\"color: darkred; text-decoration: none;\">Setup</a>"
   ]
  },
  {
   "cell_type": "code",
   "execution_count": 22,
   "id": "5a0db1b1",
   "metadata": {},
   "outputs": [],
   "source": [
    "import pandas as pd\n",
    "import matplotlib.pyplot as plt\n",
    "\n",
    "from sklearn.model_selection import train_test_split\n",
    "from sklearn.preprocessing import StandardScaler\n",
    "\n",
    "import tensorflow as tf\n",
    "\n",
    "from tensorflow.keras.models import Sequential\n",
    "from tensorflow.keras.layers import Dense, Input\n"
   ]
  },
  {
   "cell_type": "markdown",
   "id": "afdedb36",
   "metadata": {},
   "source": [
    "## <a id=\"eda\" style=\"color: darkred; text-decoration: none;\">EDA</a>"
   ]
  },
  {
   "cell_type": "code",
   "execution_count": 8,
   "id": "99c4d40c",
   "metadata": {},
   "outputs": [
    {
     "data": {
      "text/html": [
       "<div>\n",
       "<style scoped>\n",
       "    .dataframe tbody tr th:only-of-type {\n",
       "        vertical-align: middle;\n",
       "    }\n",
       "\n",
       "    .dataframe tbody tr th {\n",
       "        vertical-align: top;\n",
       "    }\n",
       "\n",
       "    .dataframe thead th {\n",
       "        text-align: right;\n",
       "    }\n",
       "</style>\n",
       "<table border=\"1\" class=\"dataframe\">\n",
       "  <thead>\n",
       "    <tr style=\"text-align: right;\">\n",
       "      <th></th>\n",
       "      <th>id</th>\n",
       "      <th>diagnosis</th>\n",
       "      <th>radius_mean</th>\n",
       "      <th>texture_mean</th>\n",
       "      <th>perimeter_mean</th>\n",
       "      <th>area_mean</th>\n",
       "      <th>smoothness_mean</th>\n",
       "      <th>compactness_mean</th>\n",
       "      <th>concavity_mean</th>\n",
       "      <th>concave points_mean</th>\n",
       "      <th>...</th>\n",
       "      <th>texture_worst</th>\n",
       "      <th>perimeter_worst</th>\n",
       "      <th>area_worst</th>\n",
       "      <th>smoothness_worst</th>\n",
       "      <th>compactness_worst</th>\n",
       "      <th>concavity_worst</th>\n",
       "      <th>concave points_worst</th>\n",
       "      <th>symmetry_worst</th>\n",
       "      <th>fractal_dimension_worst</th>\n",
       "      <th>Unnamed: 32</th>\n",
       "    </tr>\n",
       "  </thead>\n",
       "  <tbody>\n",
       "    <tr>\n",
       "      <th>564</th>\n",
       "      <td>926424</td>\n",
       "      <td>M</td>\n",
       "      <td>21.56</td>\n",
       "      <td>22.39</td>\n",
       "      <td>142.00</td>\n",
       "      <td>1479.0</td>\n",
       "      <td>0.11100</td>\n",
       "      <td>0.11590</td>\n",
       "      <td>0.24390</td>\n",
       "      <td>0.13890</td>\n",
       "      <td>...</td>\n",
       "      <td>26.40</td>\n",
       "      <td>166.10</td>\n",
       "      <td>2027.0</td>\n",
       "      <td>0.14100</td>\n",
       "      <td>0.21130</td>\n",
       "      <td>0.4107</td>\n",
       "      <td>0.2216</td>\n",
       "      <td>0.2060</td>\n",
       "      <td>0.07115</td>\n",
       "      <td>NaN</td>\n",
       "    </tr>\n",
       "    <tr>\n",
       "      <th>565</th>\n",
       "      <td>926682</td>\n",
       "      <td>M</td>\n",
       "      <td>20.13</td>\n",
       "      <td>28.25</td>\n",
       "      <td>131.20</td>\n",
       "      <td>1261.0</td>\n",
       "      <td>0.09780</td>\n",
       "      <td>0.10340</td>\n",
       "      <td>0.14400</td>\n",
       "      <td>0.09791</td>\n",
       "      <td>...</td>\n",
       "      <td>38.25</td>\n",
       "      <td>155.00</td>\n",
       "      <td>1731.0</td>\n",
       "      <td>0.11660</td>\n",
       "      <td>0.19220</td>\n",
       "      <td>0.3215</td>\n",
       "      <td>0.1628</td>\n",
       "      <td>0.2572</td>\n",
       "      <td>0.06637</td>\n",
       "      <td>NaN</td>\n",
       "    </tr>\n",
       "    <tr>\n",
       "      <th>566</th>\n",
       "      <td>926954</td>\n",
       "      <td>M</td>\n",
       "      <td>16.60</td>\n",
       "      <td>28.08</td>\n",
       "      <td>108.30</td>\n",
       "      <td>858.1</td>\n",
       "      <td>0.08455</td>\n",
       "      <td>0.10230</td>\n",
       "      <td>0.09251</td>\n",
       "      <td>0.05302</td>\n",
       "      <td>...</td>\n",
       "      <td>34.12</td>\n",
       "      <td>126.70</td>\n",
       "      <td>1124.0</td>\n",
       "      <td>0.11390</td>\n",
       "      <td>0.30940</td>\n",
       "      <td>0.3403</td>\n",
       "      <td>0.1418</td>\n",
       "      <td>0.2218</td>\n",
       "      <td>0.07820</td>\n",
       "      <td>NaN</td>\n",
       "    </tr>\n",
       "    <tr>\n",
       "      <th>567</th>\n",
       "      <td>927241</td>\n",
       "      <td>M</td>\n",
       "      <td>20.60</td>\n",
       "      <td>29.33</td>\n",
       "      <td>140.10</td>\n",
       "      <td>1265.0</td>\n",
       "      <td>0.11780</td>\n",
       "      <td>0.27700</td>\n",
       "      <td>0.35140</td>\n",
       "      <td>0.15200</td>\n",
       "      <td>...</td>\n",
       "      <td>39.42</td>\n",
       "      <td>184.60</td>\n",
       "      <td>1821.0</td>\n",
       "      <td>0.16500</td>\n",
       "      <td>0.86810</td>\n",
       "      <td>0.9387</td>\n",
       "      <td>0.2650</td>\n",
       "      <td>0.4087</td>\n",
       "      <td>0.12400</td>\n",
       "      <td>NaN</td>\n",
       "    </tr>\n",
       "    <tr>\n",
       "      <th>568</th>\n",
       "      <td>92751</td>\n",
       "      <td>B</td>\n",
       "      <td>7.76</td>\n",
       "      <td>24.54</td>\n",
       "      <td>47.92</td>\n",
       "      <td>181.0</td>\n",
       "      <td>0.05263</td>\n",
       "      <td>0.04362</td>\n",
       "      <td>0.00000</td>\n",
       "      <td>0.00000</td>\n",
       "      <td>...</td>\n",
       "      <td>30.37</td>\n",
       "      <td>59.16</td>\n",
       "      <td>268.6</td>\n",
       "      <td>0.08996</td>\n",
       "      <td>0.06444</td>\n",
       "      <td>0.0000</td>\n",
       "      <td>0.0000</td>\n",
       "      <td>0.2871</td>\n",
       "      <td>0.07039</td>\n",
       "      <td>NaN</td>\n",
       "    </tr>\n",
       "  </tbody>\n",
       "</table>\n",
       "<p>5 rows × 33 columns</p>\n",
       "</div>"
      ],
      "text/plain": [
       "         id diagnosis  radius_mean  texture_mean  perimeter_mean  area_mean  \\\n",
       "564  926424         M        21.56         22.39          142.00     1479.0   \n",
       "565  926682         M        20.13         28.25          131.20     1261.0   \n",
       "566  926954         M        16.60         28.08          108.30      858.1   \n",
       "567  927241         M        20.60         29.33          140.10     1265.0   \n",
       "568   92751         B         7.76         24.54           47.92      181.0   \n",
       "\n",
       "     smoothness_mean  compactness_mean  concavity_mean  concave points_mean  \\\n",
       "564          0.11100           0.11590         0.24390              0.13890   \n",
       "565          0.09780           0.10340         0.14400              0.09791   \n",
       "566          0.08455           0.10230         0.09251              0.05302   \n",
       "567          0.11780           0.27700         0.35140              0.15200   \n",
       "568          0.05263           0.04362         0.00000              0.00000   \n",
       "\n",
       "     ...  texture_worst  perimeter_worst  area_worst  smoothness_worst  \\\n",
       "564  ...          26.40           166.10      2027.0           0.14100   \n",
       "565  ...          38.25           155.00      1731.0           0.11660   \n",
       "566  ...          34.12           126.70      1124.0           0.11390   \n",
       "567  ...          39.42           184.60      1821.0           0.16500   \n",
       "568  ...          30.37            59.16       268.6           0.08996   \n",
       "\n",
       "     compactness_worst  concavity_worst  concave points_worst  symmetry_worst  \\\n",
       "564            0.21130           0.4107                0.2216          0.2060   \n",
       "565            0.19220           0.3215                0.1628          0.2572   \n",
       "566            0.30940           0.3403                0.1418          0.2218   \n",
       "567            0.86810           0.9387                0.2650          0.4087   \n",
       "568            0.06444           0.0000                0.0000          0.2871   \n",
       "\n",
       "     fractal_dimension_worst  Unnamed: 32  \n",
       "564                  0.07115          NaN  \n",
       "565                  0.06637          NaN  \n",
       "566                  0.07820          NaN  \n",
       "567                  0.12400          NaN  \n",
       "568                  0.07039          NaN  \n",
       "\n",
       "[5 rows x 33 columns]"
      ]
     },
     "execution_count": 8,
     "metadata": {},
     "output_type": "execute_result"
    }
   ],
   "source": [
    "# Load data\n",
    "df = pd.read_csv('../data/raw.csv',encoding='utf-8')\n",
    "df.tail()"
   ]
  },
  {
   "cell_type": "code",
   "execution_count": 9,
   "id": "72438ad0",
   "metadata": {},
   "outputs": [
    {
     "data": {
      "text/plain": [
       "(569, 33)"
      ]
     },
     "execution_count": 9,
     "metadata": {},
     "output_type": "execute_result"
    }
   ],
   "source": [
    "# shape\n",
    "df.shape"
   ]
  },
  {
   "cell_type": "markdown",
   "id": "1564a85f",
   "metadata": {},
   "source": [
    "-> 569 rows and 33 columns."
   ]
  },
  {
   "cell_type": "code",
   "execution_count": 10,
   "id": "ddfa154a",
   "metadata": {},
   "outputs": [
    {
     "name": "stdout",
     "output_type": "stream",
     "text": [
      "<class 'pandas.core.frame.DataFrame'>\n",
      "RangeIndex: 569 entries, 0 to 568\n",
      "Data columns (total 33 columns):\n",
      " #   Column                   Non-Null Count  Dtype  \n",
      "---  ------                   --------------  -----  \n",
      " 0   id                       569 non-null    int64  \n",
      " 1   diagnosis                569 non-null    object \n",
      " 2   radius_mean              569 non-null    float64\n",
      " 3   texture_mean             569 non-null    float64\n",
      " 4   perimeter_mean           569 non-null    float64\n",
      " 5   area_mean                569 non-null    float64\n",
      " 6   smoothness_mean          569 non-null    float64\n",
      " 7   compactness_mean         569 non-null    float64\n",
      " 8   concavity_mean           569 non-null    float64\n",
      " 9   concave points_mean      569 non-null    float64\n",
      " 10  symmetry_mean            569 non-null    float64\n",
      " 11  fractal_dimension_mean   569 non-null    float64\n",
      " 12  radius_se                569 non-null    float64\n",
      " 13  texture_se               569 non-null    float64\n",
      " 14  perimeter_se             569 non-null    float64\n",
      " 15  area_se                  569 non-null    float64\n",
      " 16  smoothness_se            569 non-null    float64\n",
      " 17  compactness_se           569 non-null    float64\n",
      " 18  concavity_se             569 non-null    float64\n",
      " 19  concave points_se        569 non-null    float64\n",
      " 20  symmetry_se              569 non-null    float64\n",
      " 21  fractal_dimension_se     569 non-null    float64\n",
      " 22  radius_worst             569 non-null    float64\n",
      " 23  texture_worst            569 non-null    float64\n",
      " 24  perimeter_worst          569 non-null    float64\n",
      " 25  area_worst               569 non-null    float64\n",
      " 26  smoothness_worst         569 non-null    float64\n",
      " 27  compactness_worst        569 non-null    float64\n",
      " 28  concavity_worst          569 non-null    float64\n",
      " 29  concave points_worst     569 non-null    float64\n",
      " 30  symmetry_worst           569 non-null    float64\n",
      " 31  fractal_dimension_worst  569 non-null    float64\n",
      " 32  Unnamed: 32              0 non-null      float64\n",
      "dtypes: float64(31), int64(1), object(1)\n",
      "memory usage: 146.8+ KB\n"
     ]
    }
   ],
   "source": [
    "# Quick overview\n",
    "df.info()"
   ]
  },
  {
   "cell_type": "code",
   "execution_count": 11,
   "id": "edb4b969",
   "metadata": {},
   "outputs": [
    {
     "data": {
      "text/plain": [
       "id                           0\n",
       "diagnosis                    0\n",
       "radius_mean                  0\n",
       "texture_mean                 0\n",
       "perimeter_mean               0\n",
       "area_mean                    0\n",
       "smoothness_mean              0\n",
       "compactness_mean             0\n",
       "concavity_mean               0\n",
       "concave points_mean          0\n",
       "symmetry_mean                0\n",
       "fractal_dimension_mean       0\n",
       "radius_se                    0\n",
       "texture_se                   0\n",
       "perimeter_se                 0\n",
       "area_se                      0\n",
       "smoothness_se                0\n",
       "compactness_se               0\n",
       "concavity_se                 0\n",
       "concave points_se            0\n",
       "symmetry_se                  0\n",
       "fractal_dimension_se         0\n",
       "radius_worst                 0\n",
       "texture_worst                0\n",
       "perimeter_worst              0\n",
       "area_worst                   0\n",
       "smoothness_worst             0\n",
       "compactness_worst            0\n",
       "concavity_worst              0\n",
       "concave points_worst         0\n",
       "symmetry_worst               0\n",
       "fractal_dimension_worst      0\n",
       "Unnamed: 32                569\n",
       "dtype: int64"
      ]
     },
     "execution_count": 11,
     "metadata": {},
     "output_type": "execute_result"
    }
   ],
   "source": [
    "# let's see if there are missing values\n",
    "df.isnull().sum()"
   ]
  },
  {
   "cell_type": "markdown",
   "id": "aeb9f8be",
   "metadata": {},
   "source": [
    "There are no missing values in this dataset, so we won't have to worry about dealing with them. However, if there were any, we have different options to handle them:\n",
    "\n",
    "- Delete the rows with those values (e.g., df.dropna(axis=0))\n",
    "\n",
    "- Delete the columns with those values (e.g., df.dropna(axis=1))\n",
    "\n",
    "- Replace the missing values, for example with the mean (df.fillna(df.mean())) or using some estimator."
   ]
  },
  {
   "cell_type": "markdown",
   "id": "206b1295",
   "metadata": {},
   "source": [
    "### Class imbalance"
   ]
  },
  {
   "cell_type": "code",
   "execution_count": 12,
   "id": "ac9e8895",
   "metadata": {},
   "outputs": [
    {
     "name": "stdout",
     "output_type": "stream",
     "text": [
      "Quantity of 'M' (malignant): 212\n",
      "Quantity of 'B' (benign): 357\n"
     ]
    },
    {
     "data": {
      "text/plain": [
       "0.5938375350140056"
      ]
     },
     "execution_count": 12,
     "metadata": {},
     "output_type": "execute_result"
    }
   ],
   "source": [
    "# Count the quantity of 'M' (malignant)\n",
    "count_malignant = df[df['diagnosis'] == 'M'].shape[0]\n",
    "\n",
    "# Count the quantity of 'B' (benign)\n",
    "count_benign = df[df['diagnosis'] == 'B'].shape[0]\n",
    "\n",
    "print(\"Quantity of 'M' (malignant):\", count_malignant)\n",
    "print(\"Quantity of 'B' (benign):\", count_benign)\n",
    "\n",
    "count_malignant/count_benign"
   ]
  },
  {
   "cell_type": "markdown",
   "id": "f6a823ba",
   "metadata": {},
   "source": [
    "The imbalance is moderate (≈60/40), not extreme (like 95/5).\n",
    "\n",
    "Why we won’t handle imbalance aggressively here\n",
    "\n",
    "- Models trained on this data can still learn patterns from both classes without strong rebalancing.\n",
    "\n",
    "- Since our evaluation will focus on recall and F1-score, we’ll already catch whether the model is biased toward the majority class.\n",
    "\n",
    "\n",
    "Why we mention it anyway\n",
    "\n",
    "- In real-world medical datasets, imbalance is often much worse (e.g., <10% malignant). In those cases, extra techniques are necessary:\n",
    "\n",
    "    - Class weights\n",
    "\n",
    "    - Oversampling / undersampling\n",
    "\n",
    "    - Advanced synthetic data (e.g., SMOTE)\n",
    "\n",
    "For this project, the main goal is learning and demonstrating a clean folder structure for ML projects. If we added balancing pipelines now, it would add complexity without adding much learning value, since this dataset is not severely imbalanced.\n",
    "\n",
    "**Conclusion**\n",
    "\n",
    "For this project, we’ll acknowledge the imbalance but not act on it.\n"
   ]
  },
  {
   "cell_type": "markdown",
   "id": "f681d6a3",
   "metadata": {},
   "source": [
    "## <a id=\"preprocessing\" style=\"color: darkred; text-decoration: none;\">Preprocessing</a>\n",
    "\n",
    "### <font color='darkorange'> Data Preparation Workflow </font>\n",
    "\n",
    "**1. Pre-split preprocessing:** handle missing values, encode categorical features.  \n",
    "**2. Train/Validation split**: separate data into training and validation sets.  \n",
    "**3. Post-split preprocessing:** standardize features using training set statistics.  \n",
    "**4. Create TensorFlow datasets:** prepare `tf.data.Dataset` objects for efficient training.\n",
    "\n",
    "\n",
    "<img src=\"images/preprocessing_workflow.png\"/>\n",
    "\n"
   ]
  },
  {
   "cell_type": "markdown",
   "id": "d96a2616-302e-4b84-bc0b-b1c80f29aa36",
   "metadata": {},
   "source": [
    "### Helper Functions"
   ]
  },
  {
   "cell_type": "code",
   "execution_count": 13,
   "id": "19fabd50",
   "metadata": {},
   "outputs": [],
   "source": [
    "def preprocess_data(df):\n",
    "    \"\"\"\n",
    "    Preprocess the input DataFrame.\n",
    "\n",
    "    Steps:\n",
    "    1. Drop the 'Unnamed: 32' column if it exists.\n",
    "    2. Drop rows with missing values.\n",
    "    3. Encode the 'diagnosis' column: 'M' -> 1, 'B' -> 0.\n",
    "    4. Separate features and labels.\n",
    "\n",
    "    Args:\n",
    "        df (pd.DataFrame): Raw input DataFrame.\n",
    "\n",
    "    Returns:\n",
    "        features (pd.DataFrame): Feature columns.\n",
    "        labels (pd.Series): Encoded labels.\n",
    "    \"\"\"\n",
    "    df = df.copy()\n",
    "    if 'Unnamed: 32' in df.columns:\n",
    "        df = df.drop(columns=['Unnamed: 32'])\n",
    "    df = df.dropna()\n",
    "    \n",
    "    encoder = {'M': 1, 'B': 0}\n",
    "    labels = df['diagnosis'].map(encoder)\n",
    "\n",
    "    features = df.drop(columns=['id', 'diagnosis'])\n",
    "    return features, labels\n",
    "\n",
    "\n",
    "def split_data(features, labels, val_size=0.2):\n",
    "    \"\"\"\n",
    "    Split features and labels into training and validation sets.\n",
    "\n",
    "    Args:\n",
    "        features (pd.DataFrame): Feature columns.\n",
    "        labels (pd.Series): Target labels.\n",
    "        val_size (float): Fraction of data to use for validation.\n",
    "\n",
    "    Returns:\n",
    "        X_train, X_val, y_train, y_val\n",
    "    \"\"\"\n",
    "    X_train, X_val, y_train, y_val = train_test_split(\n",
    "        features, labels,\n",
    "        test_size=val_size,\n",
    "        stratify=labels,\n",
    "        random_state=42\n",
    "    )\n",
    "    return X_train, X_val, y_train, y_val\n",
    "\n",
    "\n",
    "def standardize(X_train, X_val):\n",
    "    \"\"\"\n",
    "    Standardize features using the training set statistics.\n",
    "\n",
    "    Args:\n",
    "        X_train (pd.DataFrame): Training features.\n",
    "        X_val (pd.DataFrame): Validation features.\n",
    "\n",
    "    Returns:\n",
    "        X_train_scaled, X_val_scaled (pd.DataFrame): Standardized features.\n",
    "    \"\"\"\n",
    "    scaler = StandardScaler()\n",
    "    \n",
    "    # Fit scaler on training set only to avoid data leakage\n",
    "    X_train_scaled = pd.DataFrame(\n",
    "        scaler.fit_transform(X_train), # fit and transform\n",
    "        columns=X_train.columns,\n",
    "        index=X_train.index\n",
    "    )\n",
    "\n",
    "    # Apply the same scaler to validation set\n",
    "    X_val_scaled = pd.DataFrame(\n",
    "        scaler.transform(X_val), # only transform\n",
    "        columns=X_val.columns,\n",
    "        index=X_val.index\n",
    "    )\n",
    "\n",
    "    return X_train_scaled, X_val_scaled\n",
    "\n",
    "\n",
    "def tf_dataset(X, y, batch_size=32, shuffle=True):\n",
    "    \"\"\"\n",
    "    Convert features and labels to a TensorFlow Dataset.\n",
    "\n",
    "    Args:\n",
    "        X (pd.DataFrame): Features.\n",
    "        y (pd.Series): Labels.\n",
    "        batch_size (int): Batch size for the dataset.\n",
    "        shuffle (bool): Whether to shuffle the dataset.\n",
    "\n",
    "    Returns:\n",
    "        tf.data.Dataset: Batched dataset ready for training.\n",
    "    \"\"\"\n",
    "    ds = tf.data.Dataset.from_tensor_slices(\n",
    "        (X.values.astype('float32'), y.values.astype('int32'))\n",
    "    )\n",
    "    if shuffle:\n",
    "        ds = ds.shuffle(buffer_size=len(X))\n",
    "    return ds.batch(batch_size)\n"
   ]
  },
  {
   "cell_type": "markdown",
   "id": "828bec16",
   "metadata": {},
   "source": [
    "### Workflow"
   ]
  },
  {
   "cell_type": "code",
   "execution_count": 14,
   "id": "fb81f4c0",
   "metadata": {},
   "outputs": [
    {
     "name": "stderr",
     "output_type": "stream",
     "text": [
      "2025-09-03 18:41:22.127001: E external/local_xla/xla/stream_executor/cuda/cuda_platform.cc:51] failed call to cuInit: INTERNAL: CUDA error: Failed call to cuInit: UNKNOWN ERROR (303)\n"
     ]
    }
   ],
   "source": [
    "features, labels = preprocess_data(df)\n",
    "\n",
    "X_train, X_val, y_train, y_val = split_data(features, labels)\n",
    "\n",
    "X_train, X_val = standardize(X_train, X_val)\n",
    "\n",
    "train_ds = tf_dataset(X_train, y_train, shuffle=True)\n",
    "\n",
    "val_ds = tf_dataset(X_val, y_val, shuffle=False)"
   ]
  },
  {
   "cell_type": "code",
   "execution_count": 15,
   "id": "a8130c9d",
   "metadata": {},
   "outputs": [
    {
     "name": "stdout",
     "output_type": "stream",
     "text": [
      "(32, 30) (32,)\n"
     ]
    },
    {
     "name": "stderr",
     "output_type": "stream",
     "text": [
      "2025-09-03 18:41:37.226612: I tensorflow/core/framework/local_rendezvous.cc:407] Local rendezvous is aborting with status: OUT_OF_RANGE: End of sequence\n"
     ]
    }
   ],
   "source": [
    "for x,y in train_ds.take(1):\n",
    "    print(x.shape, y.shape)"
   ]
  },
  {
   "cell_type": "markdown",
   "id": "75b8102c",
   "metadata": {},
   "source": [
    "## <a id=\"baseline\" style=\"color: darkred; text-decoration: none;\">Baseline Model</a>\n",
    "\n",
    "### Helper Functions"
   ]
  },
  {
   "cell_type": "code",
   "execution_count": null,
   "id": "5814adf0",
   "metadata": {},
   "outputs": [],
   "source": [
    "# Plot function\n",
    "def plot_history(history):\n",
    "    metrics = ['accuracy', 'precision', 'recall']\n",
    "    \n",
    "    plt.figure(figsize=(12, 8))\n",
    "    \n",
    "    # Loss\n",
    "    plt.subplot(2, 2, 1)\n",
    "    plt.plot(history.history['loss'], label='train')\n",
    "    plt.plot(history.history['val_loss'], label='val')\n",
    "    plt.title('Loss')\n",
    "    plt.legend()\n",
    "    \n",
    "    # Accuracy\n",
    "    plt.subplot(2, 2, 2)\n",
    "    plt.plot(history.history['accuracy'], label='train')\n",
    "    plt.plot(history.history['val_accuracy'], label='val')\n",
    "    plt.title('Accuracy')\n",
    "    plt.legend()\n",
    "    \n",
    "    # Precision\n",
    "    plt.subplot(2, 2, 3)\n",
    "    plt.plot(history.history['precision'], label='train')\n",
    "    plt.plot(history.history['val_precision'], label='val')\n",
    "    plt.title('Precision')\n",
    "    plt.legend()\n",
    "    \n",
    "    # Recall\n",
    "    plt.subplot(2, 2, 4)\n",
    "    plt.plot(history.history['recall'], label='train')\n",
    "    plt.plot(history.history['val_recall'], label='val')\n",
    "    plt.title('Recall')\n",
    "    plt.legend()\n",
    "    \n",
    "    plt.tight_layout()\n",
    "    plt.show()"
   ]
  },
  {
   "cell_type": "markdown",
   "id": "6d011a8e",
   "metadata": {},
   "source": [
    "### Model"
   ]
  },
  {
   "cell_type": "code",
   "execution_count": 17,
   "id": "dc21607e",
   "metadata": {},
   "outputs": [],
   "source": [
    "input_dim = X_train.shape[1]"
   ]
  },
  {
   "cell_type": "code",
   "execution_count": 18,
   "id": "7b5c864d",
   "metadata": {},
   "outputs": [],
   "source": [
    "# simple baseline model\n",
    "def build_compile_model(input_dim):\n",
    "    model = Sequential([\n",
    "        Input(shape=(input_dim,)),\n",
    "        Dense(10, activation='relu'),\n",
    "        Dense(1, activation='sigmoid')\n",
    "    ],name='baseline')\n",
    "    \n",
    "    model.compile(\n",
    "        optimizer=tf.keras.optimizers.Adam(),\n",
    "        loss='binary_crossentropy',\n",
    "        metrics=['accuracy', tf.keras.metrics.Precision(), tf.keras.metrics.Recall()]\n",
    "    )\n",
    "    \n",
    "    return model\n"
   ]
  },
  {
   "cell_type": "code",
   "execution_count": 19,
   "id": "09be6227",
   "metadata": {},
   "outputs": [],
   "source": [
    "model = build_compile_model(input_dim)"
   ]
  },
  {
   "cell_type": "code",
   "execution_count": 20,
   "id": "9c0fd55c",
   "metadata": {},
   "outputs": [
    {
     "data": {
      "text/html": [
       "<pre style=\"white-space:pre;overflow-x:auto;line-height:normal;font-family:Menlo,'DejaVu Sans Mono',consolas,'Courier New',monospace\"><span style=\"font-weight: bold\">Model: \"baseline\"</span>\n",
       "</pre>\n"
      ],
      "text/plain": [
       "\u001b[1mModel: \"baseline\"\u001b[0m\n"
      ]
     },
     "metadata": {},
     "output_type": "display_data"
    },
    {
     "data": {
      "text/html": [
       "<pre style=\"white-space:pre;overflow-x:auto;line-height:normal;font-family:Menlo,'DejaVu Sans Mono',consolas,'Courier New',monospace\">┏━━━━━━━━━━━━━━━━━━━━━━━━━━━━━━━━━┳━━━━━━━━━━━━━━━━━━━━━━━━┳━━━━━━━━━━━━━━━┓\n",
       "┃<span style=\"font-weight: bold\"> Layer (type)                    </span>┃<span style=\"font-weight: bold\"> Output Shape           </span>┃<span style=\"font-weight: bold\">       Param # </span>┃\n",
       "┡━━━━━━━━━━━━━━━━━━━━━━━━━━━━━━━━━╇━━━━━━━━━━━━━━━━━━━━━━━━╇━━━━━━━━━━━━━━━┩\n",
       "│ dense (<span style=\"color: #0087ff; text-decoration-color: #0087ff\">Dense</span>)                   │ (<span style=\"color: #00d7ff; text-decoration-color: #00d7ff\">None</span>, <span style=\"color: #00af00; text-decoration-color: #00af00\">10</span>)             │           <span style=\"color: #00af00; text-decoration-color: #00af00\">310</span> │\n",
       "├─────────────────────────────────┼────────────────────────┼───────────────┤\n",
       "│ dense_1 (<span style=\"color: #0087ff; text-decoration-color: #0087ff\">Dense</span>)                 │ (<span style=\"color: #00d7ff; text-decoration-color: #00d7ff\">None</span>, <span style=\"color: #00af00; text-decoration-color: #00af00\">1</span>)              │            <span style=\"color: #00af00; text-decoration-color: #00af00\">11</span> │\n",
       "└─────────────────────────────────┴────────────────────────┴───────────────┘\n",
       "</pre>\n"
      ],
      "text/plain": [
       "┏━━━━━━━━━━━━━━━━━━━━━━━━━━━━━━━━━┳━━━━━━━━━━━━━━━━━━━━━━━━┳━━━━━━━━━━━━━━━┓\n",
       "┃\u001b[1m \u001b[0m\u001b[1mLayer (type)                   \u001b[0m\u001b[1m \u001b[0m┃\u001b[1m \u001b[0m\u001b[1mOutput Shape          \u001b[0m\u001b[1m \u001b[0m┃\u001b[1m \u001b[0m\u001b[1m      Param #\u001b[0m\u001b[1m \u001b[0m┃\n",
       "┡━━━━━━━━━━━━━━━━━━━━━━━━━━━━━━━━━╇━━━━━━━━━━━━━━━━━━━━━━━━╇━━━━━━━━━━━━━━━┩\n",
       "│ dense (\u001b[38;5;33mDense\u001b[0m)                   │ (\u001b[38;5;45mNone\u001b[0m, \u001b[38;5;34m10\u001b[0m)             │           \u001b[38;5;34m310\u001b[0m │\n",
       "├─────────────────────────────────┼────────────────────────┼───────────────┤\n",
       "│ dense_1 (\u001b[38;5;33mDense\u001b[0m)                 │ (\u001b[38;5;45mNone\u001b[0m, \u001b[38;5;34m1\u001b[0m)              │            \u001b[38;5;34m11\u001b[0m │\n",
       "└─────────────────────────────────┴────────────────────────┴───────────────┘\n"
      ]
     },
     "metadata": {},
     "output_type": "display_data"
    },
    {
     "data": {
      "text/html": [
       "<pre style=\"white-space:pre;overflow-x:auto;line-height:normal;font-family:Menlo,'DejaVu Sans Mono',consolas,'Courier New',monospace\"><span style=\"font-weight: bold\"> Total params: </span><span style=\"color: #00af00; text-decoration-color: #00af00\">321</span> (1.25 KB)\n",
       "</pre>\n"
      ],
      "text/plain": [
       "\u001b[1m Total params: \u001b[0m\u001b[38;5;34m321\u001b[0m (1.25 KB)\n"
      ]
     },
     "metadata": {},
     "output_type": "display_data"
    },
    {
     "data": {
      "text/html": [
       "<pre style=\"white-space:pre;overflow-x:auto;line-height:normal;font-family:Menlo,'DejaVu Sans Mono',consolas,'Courier New',monospace\"><span style=\"font-weight: bold\"> Trainable params: </span><span style=\"color: #00af00; text-decoration-color: #00af00\">321</span> (1.25 KB)\n",
       "</pre>\n"
      ],
      "text/plain": [
       "\u001b[1m Trainable params: \u001b[0m\u001b[38;5;34m321\u001b[0m (1.25 KB)\n"
      ]
     },
     "metadata": {},
     "output_type": "display_data"
    },
    {
     "data": {
      "text/html": [
       "<pre style=\"white-space:pre;overflow-x:auto;line-height:normal;font-family:Menlo,'DejaVu Sans Mono',consolas,'Courier New',monospace\"><span style=\"font-weight: bold\"> Non-trainable params: </span><span style=\"color: #00af00; text-decoration-color: #00af00\">0</span> (0.00 B)\n",
       "</pre>\n"
      ],
      "text/plain": [
       "\u001b[1m Non-trainable params: \u001b[0m\u001b[38;5;34m0\u001b[0m (0.00 B)\n"
      ]
     },
     "metadata": {},
     "output_type": "display_data"
    }
   ],
   "source": [
    "model.summary()"
   ]
  },
  {
   "cell_type": "code",
   "execution_count": 21,
   "id": "9e227565",
   "metadata": {},
   "outputs": [
    {
     "name": "stdout",
     "output_type": "stream",
     "text": [
      "Epoch 1/10\n",
      "\u001b[1m15/15\u001b[0m \u001b[32m━━━━━━━━━━━━━━━━━━━━\u001b[0m\u001b[37m\u001b[0m \u001b[1m1s\u001b[0m 22ms/step - accuracy: 0.3824 - loss: 0.7501 - precision: 0.3769 - recall: 1.0000 - val_accuracy: 0.3947 - val_loss: 0.6963 - val_precision: 0.3784 - val_recall: 1.0000\n",
      "Epoch 2/10\n",
      "\u001b[1m15/15\u001b[0m \u001b[32m━━━━━━━━━━━━━━━━━━━━\u001b[0m\u001b[37m\u001b[0m \u001b[1m0s\u001b[0m 6ms/step - accuracy: 0.4505 - loss: 0.6241 - precision: 0.4043 - recall: 0.9941 - val_accuracy: 0.5000 - val_loss: 0.5963 - val_precision: 0.4242 - val_recall: 1.0000\n",
      "Epoch 3/10\n",
      "\u001b[1m15/15\u001b[0m \u001b[32m━━━━━━━━━━━━━━━━━━━━\u001b[0m\u001b[37m\u001b[0m \u001b[1m0s\u001b[0m 6ms/step - accuracy: 0.6022 - loss: 0.5464 - precision: 0.4842 - recall: 0.9941 - val_accuracy: 0.7018 - val_loss: 0.5286 - val_precision: 0.5541 - val_recall: 0.9762\n",
      "Epoch 4/10\n",
      "\u001b[1m15/15\u001b[0m \u001b[32m━━━━━━━━━━━━━━━━━━━━\u001b[0m\u001b[37m\u001b[0m \u001b[1m0s\u001b[0m 6ms/step - accuracy: 0.7736 - loss: 0.4880 - precision: 0.6245 - recall: 0.9882 - val_accuracy: 0.8070 - val_loss: 0.4745 - val_precision: 0.6613 - val_recall: 0.9762\n",
      "Epoch 5/10\n",
      "\u001b[1m15/15\u001b[0m \u001b[32m━━━━━━━━━━━━━━━━━━━━\u001b[0m\u001b[37m\u001b[0m \u001b[1m0s\u001b[0m 6ms/step - accuracy: 0.8703 - loss: 0.4374 - precision: 0.7489 - recall: 0.9824 - val_accuracy: 0.8860 - val_loss: 0.4225 - val_precision: 0.7736 - val_recall: 0.9762\n",
      "Epoch 6/10\n",
      "\u001b[1m15/15\u001b[0m \u001b[32m━━━━━━━━━━━━━━━━━━━━\u001b[0m\u001b[37m\u001b[0m \u001b[1m0s\u001b[0m 6ms/step - accuracy: 0.9275 - loss: 0.3873 - precision: 0.8549 - recall: 0.9706 - val_accuracy: 0.9386 - val_loss: 0.3699 - val_precision: 0.8723 - val_recall: 0.9762\n",
      "Epoch 7/10\n",
      "\u001b[1m15/15\u001b[0m \u001b[32m━━━━━━━━━━━━━━━━━━━━\u001b[0m\u001b[37m\u001b[0m \u001b[1m0s\u001b[0m 6ms/step - accuracy: 0.9451 - loss: 0.3352 - precision: 0.8919 - recall: 0.9706 - val_accuracy: 0.9386 - val_loss: 0.3226 - val_precision: 0.8723 - val_recall: 0.9762\n",
      "Epoch 8/10\n",
      "\u001b[1m15/15\u001b[0m \u001b[32m━━━━━━━━━━━━━━━━━━━━\u001b[0m\u001b[37m\u001b[0m \u001b[1m0s\u001b[0m 6ms/step - accuracy: 0.9582 - loss: 0.2910 - precision: 0.9218 - recall: 0.9706 - val_accuracy: 0.9474 - val_loss: 0.2815 - val_precision: 0.8913 - val_recall: 0.9762\n",
      "Epoch 9/10\n",
      "\u001b[1m15/15\u001b[0m \u001b[32m━━━━━━━━━━━━━━━━━━━━\u001b[0m\u001b[37m\u001b[0m \u001b[1m0s\u001b[0m 6ms/step - accuracy: 0.9626 - loss: 0.2538 - precision: 0.9322 - recall: 0.9706 - val_accuracy: 0.9474 - val_loss: 0.2478 - val_precision: 0.9091 - val_recall: 0.9524\n",
      "Epoch 10/10\n",
      "\u001b[1m15/15\u001b[0m \u001b[32m━━━━━━━━━━━━━━━━━━━━\u001b[0m\u001b[37m\u001b[0m \u001b[1m0s\u001b[0m 6ms/step - accuracy: 0.9670 - loss: 0.2238 - precision: 0.9429 - recall: 0.9706 - val_accuracy: 0.9561 - val_loss: 0.2201 - val_precision: 0.9302 - val_recall: 0.9524\n",
      "Test Accuracy: 0.9561, Precision: 0.9302, Recall: 0.9524\n"
     ]
    }
   ],
   "source": [
    "# Train model\n",
    "history = model.fit(\n",
    "    X_train, y_train,\n",
    "    validation_data=(X_val, y_val),\n",
    "    epochs=10,\n",
    "    batch_size=32,\n",
    "    verbose=1\n",
    ")\n",
    "\n",
    "# Evaluate on test set\n",
    "loss, acc, prec, rec = model.evaluate(X_val, y_val, verbose=0)\n",
    "print(f\"Test Accuracy: {acc:.4f}, Precision: {prec:.4f}, Recall: {rec:.4f}\")"
   ]
  },
  {
   "cell_type": "code",
   "execution_count": 27,
   "id": "1e32dd61",
   "metadata": {},
   "outputs": [
    {
     "data": {
      "text/plain": [
       "dict_keys(['accuracy', 'loss', 'precision', 'recall', 'val_accuracy', 'val_loss', 'val_precision', 'val_recall'])"
      ]
     },
     "execution_count": 27,
     "metadata": {},
     "output_type": "execute_result"
    }
   ],
   "source": [
    "history.history.keys()"
   ]
  },
  {
   "cell_type": "code",
   "execution_count": 28,
   "id": "1ebdbc61",
   "metadata": {},
   "outputs": [
    {
     "data": {
      "image/png": "[encoded data removed]",
      "text/plain": [
       "<Figure size 1200x800 with 4 Axes>"
      ]
     },
     "metadata": {},
     "output_type": "display_data"
    }
   ],
   "source": [
    "# Plot\n",
    "plot_history(history)\n"
   ]
  },
  {
   "cell_type": "markdown",
   "id": "7adc6057",
   "metadata": {},
   "source": [
    "We can see that we achieve very good results even with a simple model and a few epochs. It's probable that we don't even need a neural network, and simpler models could yield great results. However, this is for a learning project whose goal is to create an end-to-end solution. Therefore, the specific model doesn't really matter. The point of this section is to prove that we can solve the problem efficiently and get an idea of what can work."
   ]
  },
  {
   "cell_type": "markdown",
   "id": "aefc09be",
   "metadata": {},
   "source": [
    "## <a id=\"annex\" style=\"color: darkred; text-decoration: none;\">Annex</a>\n",
    "\n",
    "### <a id=\"imbalance\" style=\"color: darkorange; text-decoration: none;\">A. Class Imbalance</a>"
   ]
  },
  {
   "cell_type": "markdown",
   "id": "4f8b333f",
   "metadata": {},
   "source": [
    "In this project, we have:\n",
    "\n",
    "- Malignant (M): 212 samples\n",
    "\n",
    "- Benign (B): 357 samples\n",
    "\n",
    "That gives a total of 569 samples.\n",
    "\n",
    "👉 The class distribution is:\n",
    "\n",
    "- Malignant: \n",
    "212\n",
    "/\n",
    "569\n",
    "≈\n",
    "37\n",
    "%\n",
    "212/569≈37%\n",
    "\n",
    "- Benign: \n",
    "357\n",
    "/\n",
    "569\n",
    "≈\n",
    "63\n",
    "%\n",
    "357/569≈63%\n",
    "\n",
    "So the dataset is imbalanced, but not extremely so. It’s roughly a 60/40 split, which is common in medical datasets where one condition (benign) is more frequent.\n",
    "\n",
    "**Why it matters**\n",
    "\n",
    "A naïve model could lean toward predicting \"benign\" more often and still get good accuracy, but it would miss malignant cases, which are critical in diagnosis.\n",
    "\n",
    "This imbalance affects recall for the minority class (malignant) the most, since false negatives there are the biggest risk.\n",
    "\n",
    "\n",
    "Let’s simulate the “always predict benign” case with this dataset:\n",
    "\n",
    "- Total samples = 569\n",
    "\n",
    "- Benign = 357\n",
    "\n",
    "- Malignant = 212\n",
    "\n",
    "If a classifier always predicts \"B\" (benign):\n",
    "\n",
    "- True Negatives (TN) = 357 (all benign correctly predicted)\n",
    "\n",
    "- False Negatives (FN) = 212 (all malignant misclassified as benign)\n",
    "\n",
    "- True Positives (TP) = 0\n",
    "\n",
    "- False Positives (FP) = 0\n",
    "\n",
    "Now, compute the metrics:\n",
    "\n",
    "- Accuracy = (TP + TN) / Total = (0 + 357) / 569 ≈ 62.7%\n",
    "\n",
    "- Precision (malignant as positive class) = TP / (TP + FP) = 0 / 0 → undefined (set to 0)\n",
    "\n",
    "- Recall (sensitivity for malignant) = TP / (TP + FN) = 0 / (0 + 212) = 0%\n",
    "\n",
    "- F1-score (malignant) = 0\n",
    "\n",
    "👉 This shows the problem:\n",
    "\n",
    "Accuracy looks decent (63%) but the model is useless for detecting malignant cases (the important class in practice).\n",
    "\n",
    "This is exactly why, with imbalance, we should look at recall, precision, F1, ROC-AUC, PR-AUC, instead of just accuracy.\n"
   ]
  },
  {
   "cell_type": "markdown",
   "id": "6524d57d",
   "metadata": {},
   "source": [
    "**Practical notes**\n",
    "\n",
    "This imbalance is moderate. We don’t necessarily need strong balancing techniques like heavy oversampling, but we should:\n",
    "\n",
    "- Track metrics beyond accuracy (precision, recall, F1, ROC-AUC, PR-AUC).\n",
    "\n",
    "- Consider class weighting in your model.\n",
    "\n",
    "- If needed, try resampling techniques (SMOTE, undersampling, or balanced mini-batches)."
   ]
  }
 ],
 "metadata": {
  "kernelspec": {
   "display_name": "Python 3 (ipykernel)",
   "language": "python",
   "name": "python3"
  },
  "language_info": {
   "codemirror_mode": {
    "name": "ipython",
    "version": 3
   },
   "file_extension": ".py",
   "mimetype": "text/x-python",
   "name": "python",
   "nbconvert_exporter": "python",
   "pygments_lexer": "ipython3",
   "version": "3.10.12"
  }
 },
 "nbformat": 4,
 "nbformat_minor": 5
}
