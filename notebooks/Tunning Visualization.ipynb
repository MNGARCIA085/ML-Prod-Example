{
 "cells": [
  {
   "cell_type": "code",
   "execution_count": 3,
   "id": "bd709378-6094-4513-8986-6eba0fd8dfcb",
   "metadata": {},
   "outputs": [
    {
     "name": "stdout",
     "output_type": "stream",
     "text": [
      "'Training Visualization.ipynb'\t'Tunning Visualization.ipynb'   Untitled.ipynb\n"
     ]
    }
   ],
   "source": [
    "!ls"
   ]
  },
  {
   "cell_type": "code",
   "execution_count": 10,
   "id": "a54f8ad8-0ff9-4f61-b45b-13904a290cbe",
   "metadata": {},
   "outputs": [],
   "source": [
    "import json\n",
    "import matplotlib.pyplot as plt\n",
    "from pathlib import Path\n",
    "from collections import defaultdict\n",
    "\n",
    "# Path to runs_index.json\n",
    "index_path = Path(\"../logs/tuning/baseline_with_tuner/runs_index.json\")\n",
    "\n",
    "# Load runs_index.json\n",
    "with open(index_path) as f:\n",
    "    runs_index = json.load(f)\n",
    "\n",
    "# Sort by timestamp\n",
    "runs_index.sort(key=lambda x: x[\"timestamp\"])\n",
    "\n",
    "# Base directory for JSON files\n",
    "#base_dir = index_path.parent\n",
    "\n",
    "\n",
    "\n",
    "\n",
    "# goal of the previous part -> order by date!!!!!"
   ]
  },
  {
   "cell_type": "code",
   "execution_count": 11,
   "id": "60a1d7c2-7cc0-4bb7-84ff-49f5a964efeb",
   "metadata": {},
   "outputs": [
    {
     "data": {
      "text/plain": [
       "[{'timestamp': '20250814_154310',\n",
       "  'log_file': 'logs/tuning/baseline_with_tuner/baseline_with_tuner_tuner_20250814_154310.log',\n",
       "  'json_file': 'logs/tuning/baseline_with_tuner/baseline_with_tuner_tuner_20250814_154310.json',\n",
       "  'summary': {'val_metrics': {'loss': 0.4689657986164093,\n",
       "    'accuracy': 0.8947368264198303,\n",
       "    'precision': 0.8947368264198303,\n",
       "    'recall': 0.8095238208770752},\n",
       "   'best_hyperparameters': {'learning_rate': 0.00544853401907757,\n",
       "    'trained_epochs': 5,\n",
       "    'batch_size': 32,\n",
       "    'optimizer': 'Adam',\n",
       "    'final_learning_rate': 0.005448534153401852}}},\n",
       " {'timestamp': '20250814_211640',\n",
       "  'log_file': 'logs/tuning/baseline_with_tuner/baseline_with_tuner_tuner_20250814_211640.log',\n",
       "  'json_file': 'logs/tuning/baseline_with_tuner/baseline_with_tuner_tuner_20250814_211640.json',\n",
       "  'summary': {'val_metrics': {'loss': 0.4234253764152527,\n",
       "    'accuracy': 0.9122806787490845,\n",
       "    'precision': 0.8999999761581421,\n",
       "    'recall': 0.8571428656578064},\n",
       "   'best_hyperparameters': {'learning_rate': 0.00544853401907757,\n",
       "    'trained_epochs': 5,\n",
       "    'batch_size': 32,\n",
       "    'optimizer': 'Adam',\n",
       "    'final_learning_rate': 0.005448534153401852}}}]"
      ]
     },
     "execution_count": 11,
     "metadata": {},
     "output_type": "execute_result"
    }
   ],
   "source": [
    "runs_index"
   ]
  },
  {
   "cell_type": "code",
   "execution_count": 12,
   "id": "f8e5b7ee-f6b6-4800-b4e8-bf066c115937",
   "metadata": {},
   "outputs": [
    {
     "data": {
      "text/plain": [
       "{'timestamp': '20250814_154310',\n",
       " 'log_file': 'logs/tuning/baseline_with_tuner/baseline_with_tuner_tuner_20250814_154310.log',\n",
       " 'json_file': 'logs/tuning/baseline_with_tuner/baseline_with_tuner_tuner_20250814_154310.json',\n",
       " 'summary': {'val_metrics': {'loss': 0.4689657986164093,\n",
       "   'accuracy': 0.8947368264198303,\n",
       "   'precision': 0.8947368264198303,\n",
       "   'recall': 0.8095238208770752},\n",
       "  'best_hyperparameters': {'learning_rate': 0.00544853401907757,\n",
       "   'trained_epochs': 5,\n",
       "   'batch_size': 32,\n",
       "   'optimizer': 'Adam',\n",
       "   'final_learning_rate': 0.005448534153401852}}}"
      ]
     },
     "execution_count": 12,
     "metadata": {},
     "output_type": "execute_result"
    }
   ],
   "source": [
    "runs_index[0]"
   ]
  },
  {
   "cell_type": "code",
   "execution_count": null,
   "id": "5a19ff28-cf1e-449f-a471-7dd692ab96cb",
   "metadata": {},
   "outputs": [],
   "source": []
  }
 ],
 "metadata": {
  "kernelspec": {
   "display_name": "Python 3 (ipykernel)",
   "language": "python",
   "name": "python3"
  },
  "language_info": {
   "codemirror_mode": {
    "name": "ipython",
    "version": 3
   },
   "file_extension": ".py",
   "mimetype": "text/x-python",
   "name": "python",
   "nbconvert_exporter": "python",
   "pygments_lexer": "ipython3",
   "version": "3.10.12"
  }
 },
 "nbformat": 4,
 "nbformat_minor": 5
}
