{
 "cells": [
  {
   "cell_type": "markdown",
   "id": "3c78150e-1165-4c09-b7ee-ff04c34cc87c",
   "metadata": {},
   "source": [
    "### Analysis"
   ]
  },
  {
   "cell_type": "code",
   "execution_count": null,
   "id": "86f5bc44",
   "metadata": {},
   "outputs": [],
   "source": [
    "# results obtained with the test set"
   ]
  },
  {
   "cell_type": "code",
   "execution_count": null,
   "id": "75c68a3d",
   "metadata": {},
   "outputs": [],
   "source": []
  },
  {
   "cell_type": "code",
   "execution_count": null,
   "id": "1a48df77",
   "metadata": {},
   "outputs": [],
   "source": []
  },
  {
   "cell_type": "code",
   "execution_count": 20,
   "id": "564e2a4f",
   "metadata": {},
   "outputs": [],
   "source": [
    "import os\n",
    "import json\n",
    "import pandas as pd\n",
    "from datetime import datetime\n",
    "import matplotlib.pyplot as plt\n",
    "import numpy as np\n",
    "import seaborn as sns\n"
   ]
  },
  {
   "cell_type": "code",
   "execution_count": 10,
   "id": "f880e8db",
   "metadata": {},
   "outputs": [],
   "source": [
    "METRICS_DIR = \"/home/marcos/Escritorio/AI-prod/ML-Prod-Example/outputs/metrics/\""
   ]
  },
  {
   "cell_type": "markdown",
   "id": "c58248b3",
   "metadata": {},
   "source": [
    "### helper funtions"
   ]
  },
  {
   "cell_type": "code",
   "execution_count": 14,
   "id": "16242cd8",
   "metadata": {},
   "outputs": [
    {
     "data": {
      "text/plain": [
       "'\\njson_files_sorted is sorted by the save timestamp, so the last element is the most recent experiment.\\n\\nYou can also pick any specific experiment by index, e.g., json_files_sorted[0] for the oldest.\\n'"
      ]
     },
     "execution_count": 14,
     "metadata": {},
     "output_type": "execute_result"
    }
   ],
   "source": [
    "# Function to extract timestamp from filename\n",
    "def extract_timestamp(filename):\n",
    "    # Filename format: experiment_baseline_<exp>_<YYYYMMDD_HHMMSS>.json\n",
    "    timestamp_str = filename.rstrip(\".json\").split(\"_\")[-2] + \"_\" + filename.rstrip(\".json\").split(\"_\")[-1]\n",
    "    # Parse as datetime\n",
    "    return datetime.strptime(timestamp_str, \"%Y%m%d_%H%M%S\")\n",
    "\n",
    "\n",
    "# get sorted files\n",
    "def get_sorted_files(metrics_dir):\n",
    "    # List all JSON files for the experiment\n",
    "    json_files = [f for f in os.listdir(metrics_dir) if f.startswith(\"experiment_baseline\") and f.endswith(\".json\")]\n",
    "\n",
    "    # order\n",
    "    json_files_sorted = sorted(json_files, key=extract_timestamp)\n",
    "    \n",
    "    # return\n",
    "    return json_files_sorted\n",
    "\n",
    "\n",
    "\"\"\"\n",
    "json_files_sorted is sorted by the save timestamp, so the last element is the most recent experiment.\n",
    "\n",
    "You can also pick any specific experiment by index, e.g., json_files_sorted[0] for the oldest.\n",
    "\"\"\""
   ]
  },
  {
   "cell_type": "code",
   "execution_count": 26,
   "id": "beef595c",
   "metadata": {},
   "outputs": [],
   "source": [
    "def print_metrics(metrics):\n",
    "    # ---Display evaluation metrics in vertical DataFrame ---\n",
    "    eval_results = metrics[\"evaluation_results\"]\n",
    "    metric_names = [\"Loss\", \"Binary Accuracy\", \"Precision\", \"Recall\"] \n",
    "    df_metrics = pd.DataFrame.from_dict({name: value for name, value in zip(metric_names, eval_results)}, \n",
    "                                        orient=\"index\", columns=[\"Value\"])\n",
    "    print(df_metrics)\n",
    "\n",
    "\n",
    "def plot_confussion_matrix(metrics):\n",
    "    # Extract confusion matrix\n",
    "    conf_matrix = np.array(metrics[\"confusion_matrix\"])\n",
    "\n",
    "    # --- Plot confusion matrix ---\n",
    "    plt.figure(figsize=(5,4))\n",
    "    sns.heatmap(conf_matrix, annot=True, fmt='d', cmap='Blues', cbar=False)\n",
    "    plt.xlabel('Predicted')\n",
    "    plt.ylabel('Actual')\n",
    "    plt.title('Confusion Matrix')\n",
    "    plt.show()\n",
    "\n",
    "\n",
    "def plot_roc_curve(metrics):\n",
    "    # Extract ROC info\n",
    "    fpr = np.array(metrics[\"fpr\"])\n",
    "    tpr = np.array(metrics[\"tpr\"])\n",
    "    roc_auc = metrics[\"roc_auc\"]\n",
    "\n",
    "    # --- Plot ROC curve ---\n",
    "    plt.figure(figsize=(6,6))\n",
    "    plt.plot(fpr, tpr,  lw=2, label=f'ROC curve (AUC = {roc_auc:.3f})')\n",
    "    plt.plot([0,1], [0,1], color='gray', lw=1, linestyle='--')  # random guess line\n",
    "    plt.xlabel('False Positive Rate')\n",
    "    plt.ylabel('True Positive Rate')\n",
    "    plt.title('ROC Curve')\n",
    "    plt.legend(loc='lower right')\n",
    "    plt.grid(True)\n",
    "    plt.show()"
   ]
  },
  {
   "cell_type": "code",
   "execution_count": null,
   "id": "ee5bedcb",
   "metadata": {},
   "outputs": [],
   "source": []
  },
  {
   "cell_type": "code",
   "execution_count": 12,
   "id": "dce304b0",
   "metadata": {},
   "outputs": [
    {
     "data": {
      "text/plain": [
       "['experiment_baseline_standardize_20250829_165106_20250829_165133.json',\n",
       " 'experiment_baseline_standardize_20250829_165106_20250829_170814.json']"
      ]
     },
     "execution_count": 12,
     "metadata": {},
     "output_type": "execute_result"
    }
   ],
   "source": [
    "json_files_sorted = get_sorted_files(METRICS_DIR)\n",
    "json_files_sorted"
   ]
  },
  {
   "cell_type": "markdown",
   "id": "2dcc0d17",
   "metadata": {},
   "source": [
    "here, we see the metrics for our best expermint order by time"
   ]
  },
  {
   "cell_type": "code",
   "execution_count": null,
   "id": "9fb2918a",
   "metadata": {},
   "outputs": [],
   "source": []
  },
  {
   "cell_type": "code",
   "execution_count": null,
   "id": "34fb54ae",
   "metadata": {},
   "outputs": [],
   "source": []
  },
  {
   "cell_type": "code",
   "execution_count": null,
   "id": "60a52972",
   "metadata": {},
   "outputs": [],
   "source": []
  },
  {
   "cell_type": "markdown",
   "id": "28a234d7",
   "metadata": {},
   "source": [
    "### Metrics for an expermient\n",
    "\n",
    "-> let'see the metrics for the last experminet (most recent)"
   ]
  },
  {
   "cell_type": "code",
   "execution_count": 17,
   "id": "f489ae50",
   "metadata": {},
   "outputs": [
    {
     "name": "stdout",
     "output_type": "stream",
     "text": [
      "Loaded metrics from: experiment_baseline_standardize_20250829_165106_20250829_170814.json\n",
      "                    Value\n",
      "Loss             0.051419\n",
      "Binary Accuracy  0.991228\n",
      "Precision        1.000000\n",
      "Recall           0.976190\n"
     ]
    }
   ],
   "source": [
    "# Pick the last one (most recent)\n",
    "latest_file = json_files_sorted[-1]\n",
    "latest_path = os.path.join(metrics_dir, latest_file)\n",
    "\n",
    "# Load the JSON\n",
    "with open(latest_path, \"r\") as f:\n",
    "    metrics = json.load(f)\n",
    "\n",
    "print(f\"Loaded metrics from: {latest_file}\")\n",
    "\n",
    "print_metrics(metrics)"
   ]
  },
  {
   "cell_type": "code",
   "execution_count": null,
   "id": "787c1cce",
   "metadata": {},
   "outputs": [],
   "source": []
  },
  {
   "cell_type": "code",
   "execution_count": null,
   "id": "ba4325ae",
   "metadata": {},
   "outputs": [],
   "source": []
  },
  {
   "cell_type": "code",
   "execution_count": 24,
   "id": "045938f5",
   "metadata": {},
   "outputs": [
    {
     "data": {
      "image/png": "[encoded data removed]",
      "text/plain": [
       "<Figure size 500x400 with 1 Axes>"
      ]
     },
     "metadata": {},
     "output_type": "display_data"
    }
   ],
   "source": [
    "plot_confussion_matrix(metrics)"
   ]
  },
  {
   "cell_type": "code",
   "execution_count": null,
   "id": "c772374a",
   "metadata": {},
   "outputs": [],
   "source": []
  },
  {
   "cell_type": "code",
   "execution_count": null,
   "id": "0e553ee6",
   "metadata": {},
   "outputs": [],
   "source": []
  },
  {
   "cell_type": "code",
   "execution_count": 27,
   "id": "5454bc67",
   "metadata": {},
   "outputs": [
    {
     "data": {
      "image/png": "[encoded data removed]",
      "text/plain": [
       "<Figure size 600x600 with 1 Axes>"
      ]
     },
     "metadata": {},
     "output_type": "display_data"
    }
   ],
   "source": [
    "plot_roc_curve(metrics)"
   ]
  },
  {
   "cell_type": "markdown",
   "id": "6de21063",
   "metadata": {},
   "source": [
    "This is an almost perfect classifier!!!! (Again, our problem is too simple)"
   ]
  },
  {
   "cell_type": "code",
   "execution_count": null,
   "id": "97e92597",
   "metadata": {},
   "outputs": [],
   "source": []
  },
  {
   "cell_type": "markdown",
   "id": "bfab1cea",
   "metadata": {},
   "source": [
    "## Conclusions"
   ]
  },
  {
   "cell_type": "code",
   "execution_count": null,
   "id": "b019e02d",
   "metadata": {},
   "outputs": [],
   "source": []
  }
 ],
 "metadata": {
  "kernelspec": {
   "display_name": "Python 3 (ipykernel)",
   "language": "python",
   "name": "python3"
  },
  "language_info": {
   "codemirror_mode": {
    "name": "ipython",
    "version": 3
   },
   "file_extension": ".py",
   "mimetype": "text/x-python",
   "name": "python",
   "nbconvert_exporter": "python",
   "pygments_lexer": "ipython3",
   "version": "3.10.12"
  }
 },
 "nbformat": 4,
 "nbformat_minor": 5
}
