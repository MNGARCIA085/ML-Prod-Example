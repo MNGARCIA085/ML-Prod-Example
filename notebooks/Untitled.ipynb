{
 "cells": [
  {
   "cell_type": "code",
   "execution_count": 2,
   "id": "1aae1fb7-de48-48c8-b23b-2dd8ed404c0e",
   "metadata": {},
   "outputs": [],
   "source": [
    "import pandas as pd"
   ]
  },
  {
   "cell_type": "code",
   "execution_count": 6,
   "id": "88d875ed-b0a6-45d6-8129-c842d3c769b1",
   "metadata": {},
   "outputs": [
    {
     "data": {
      "text/html": [
       "<div>\n",
       "<style scoped>\n",
       "    .dataframe tbody tr th:only-of-type {\n",
       "        vertical-align: middle;\n",
       "    }\n",
       "\n",
       "    .dataframe tbody tr th {\n",
       "        vertical-align: top;\n",
       "    }\n",
       "\n",
       "    .dataframe thead th {\n",
       "        text-align: right;\n",
       "    }\n",
       "</style>\n",
       "<table border=\"1\" class=\"dataframe\">\n",
       "  <thead>\n",
       "    <tr style=\"text-align: right;\">\n",
       "      <th></th>\n",
       "      <th>id</th>\n",
       "      <th>diagnosis</th>\n",
       "      <th>radius_mean</th>\n",
       "      <th>texture_mean</th>\n",
       "      <th>perimeter_mean</th>\n",
       "      <th>area_mean</th>\n",
       "      <th>smoothness_mean</th>\n",
       "      <th>compactness_mean</th>\n",
       "      <th>concavity_mean</th>\n",
       "      <th>concave points_mean</th>\n",
       "      <th>...</th>\n",
       "      <th>texture_worst</th>\n",
       "      <th>perimeter_worst</th>\n",
       "      <th>area_worst</th>\n",
       "      <th>smoothness_worst</th>\n",
       "      <th>compactness_worst</th>\n",
       "      <th>concavity_worst</th>\n",
       "      <th>concave points_worst</th>\n",
       "      <th>symmetry_worst</th>\n",
       "      <th>fractal_dimension_worst</th>\n",
       "      <th>Unnamed: 32</th>\n",
       "    </tr>\n",
       "  </thead>\n",
       "  <tbody>\n",
       "    <tr>\n",
       "      <th>0</th>\n",
       "      <td>842302</td>\n",
       "      <td>M</td>\n",
       "      <td>17.99</td>\n",
       "      <td>10.38</td>\n",
       "      <td>122.80</td>\n",
       "      <td>1001.0</td>\n",
       "      <td>0.11840</td>\n",
       "      <td>0.27760</td>\n",
       "      <td>0.3001</td>\n",
       "      <td>0.14710</td>\n",
       "      <td>...</td>\n",
       "      <td>17.33</td>\n",
       "      <td>184.60</td>\n",
       "      <td>2019.0</td>\n",
       "      <td>0.1622</td>\n",
       "      <td>0.6656</td>\n",
       "      <td>0.7119</td>\n",
       "      <td>0.2654</td>\n",
       "      <td>0.4601</td>\n",
       "      <td>0.11890</td>\n",
       "      <td>NaN</td>\n",
       "    </tr>\n",
       "    <tr>\n",
       "      <th>1</th>\n",
       "      <td>842517</td>\n",
       "      <td>M</td>\n",
       "      <td>20.57</td>\n",
       "      <td>17.77</td>\n",
       "      <td>132.90</td>\n",
       "      <td>1326.0</td>\n",
       "      <td>0.08474</td>\n",
       "      <td>0.07864</td>\n",
       "      <td>0.0869</td>\n",
       "      <td>0.07017</td>\n",
       "      <td>...</td>\n",
       "      <td>23.41</td>\n",
       "      <td>158.80</td>\n",
       "      <td>1956.0</td>\n",
       "      <td>0.1238</td>\n",
       "      <td>0.1866</td>\n",
       "      <td>0.2416</td>\n",
       "      <td>0.1860</td>\n",
       "      <td>0.2750</td>\n",
       "      <td>0.08902</td>\n",
       "      <td>NaN</td>\n",
       "    </tr>\n",
       "    <tr>\n",
       "      <th>2</th>\n",
       "      <td>84300903</td>\n",
       "      <td>M</td>\n",
       "      <td>19.69</td>\n",
       "      <td>21.25</td>\n",
       "      <td>130.00</td>\n",
       "      <td>1203.0</td>\n",
       "      <td>0.10960</td>\n",
       "      <td>0.15990</td>\n",
       "      <td>0.1974</td>\n",
       "      <td>0.12790</td>\n",
       "      <td>...</td>\n",
       "      <td>25.53</td>\n",
       "      <td>152.50</td>\n",
       "      <td>1709.0</td>\n",
       "      <td>0.1444</td>\n",
       "      <td>0.4245</td>\n",
       "      <td>0.4504</td>\n",
       "      <td>0.2430</td>\n",
       "      <td>0.3613</td>\n",
       "      <td>0.08758</td>\n",
       "      <td>NaN</td>\n",
       "    </tr>\n",
       "    <tr>\n",
       "      <th>3</th>\n",
       "      <td>84348301</td>\n",
       "      <td>M</td>\n",
       "      <td>11.42</td>\n",
       "      <td>20.38</td>\n",
       "      <td>77.58</td>\n",
       "      <td>386.1</td>\n",
       "      <td>0.14250</td>\n",
       "      <td>0.28390</td>\n",
       "      <td>0.2414</td>\n",
       "      <td>0.10520</td>\n",
       "      <td>...</td>\n",
       "      <td>26.50</td>\n",
       "      <td>98.87</td>\n",
       "      <td>567.7</td>\n",
       "      <td>0.2098</td>\n",
       "      <td>0.8663</td>\n",
       "      <td>0.6869</td>\n",
       "      <td>0.2575</td>\n",
       "      <td>0.6638</td>\n",
       "      <td>0.17300</td>\n",
       "      <td>NaN</td>\n",
       "    </tr>\n",
       "    <tr>\n",
       "      <th>4</th>\n",
       "      <td>84358402</td>\n",
       "      <td>M</td>\n",
       "      <td>20.29</td>\n",
       "      <td>14.34</td>\n",
       "      <td>135.10</td>\n",
       "      <td>1297.0</td>\n",
       "      <td>0.10030</td>\n",
       "      <td>0.13280</td>\n",
       "      <td>0.1980</td>\n",
       "      <td>0.10430</td>\n",
       "      <td>...</td>\n",
       "      <td>16.67</td>\n",
       "      <td>152.20</td>\n",
       "      <td>1575.0</td>\n",
       "      <td>0.1374</td>\n",
       "      <td>0.2050</td>\n",
       "      <td>0.4000</td>\n",
       "      <td>0.1625</td>\n",
       "      <td>0.2364</td>\n",
       "      <td>0.07678</td>\n",
       "      <td>NaN</td>\n",
       "    </tr>\n",
       "  </tbody>\n",
       "</table>\n",
       "<p>5 rows × 33 columns</p>\n",
       "</div>"
      ],
      "text/plain": [
       "         id diagnosis  radius_mean  texture_mean  perimeter_mean  area_mean  \\\n",
       "0    842302         M        17.99         10.38          122.80     1001.0   \n",
       "1    842517         M        20.57         17.77          132.90     1326.0   \n",
       "2  84300903         M        19.69         21.25          130.00     1203.0   \n",
       "3  84348301         M        11.42         20.38           77.58      386.1   \n",
       "4  84358402         M        20.29         14.34          135.10     1297.0   \n",
       "\n",
       "   smoothness_mean  compactness_mean  concavity_mean  concave points_mean  \\\n",
       "0          0.11840           0.27760          0.3001              0.14710   \n",
       "1          0.08474           0.07864          0.0869              0.07017   \n",
       "2          0.10960           0.15990          0.1974              0.12790   \n",
       "3          0.14250           0.28390          0.2414              0.10520   \n",
       "4          0.10030           0.13280          0.1980              0.10430   \n",
       "\n",
       "   ...  texture_worst  perimeter_worst  area_worst  smoothness_worst  \\\n",
       "0  ...          17.33           184.60      2019.0            0.1622   \n",
       "1  ...          23.41           158.80      1956.0            0.1238   \n",
       "2  ...          25.53           152.50      1709.0            0.1444   \n",
       "3  ...          26.50            98.87       567.7            0.2098   \n",
       "4  ...          16.67           152.20      1575.0            0.1374   \n",
       "\n",
       "   compactness_worst  concavity_worst  concave points_worst  symmetry_worst  \\\n",
       "0             0.6656           0.7119                0.2654          0.4601   \n",
       "1             0.1866           0.2416                0.1860          0.2750   \n",
       "2             0.4245           0.4504                0.2430          0.3613   \n",
       "3             0.8663           0.6869                0.2575          0.6638   \n",
       "4             0.2050           0.4000                0.1625          0.2364   \n",
       "\n",
       "   fractal_dimension_worst  Unnamed: 32  \n",
       "0                  0.11890          NaN  \n",
       "1                  0.08902          NaN  \n",
       "2                  0.08758          NaN  \n",
       "3                  0.17300          NaN  \n",
       "4                  0.07678          NaN  \n",
       "\n",
       "[5 rows x 33 columns]"
      ]
     },
     "execution_count": 6,
     "metadata": {},
     "output_type": "execute_result"
    }
   ],
   "source": [
    "df = pd.read_csv('../data/data.csv',encoding='utf-8')\n",
    "df.head()"
   ]
  },
  {
   "cell_type": "code",
   "execution_count": 4,
   "id": "a270e3aa-5f00-4a00-9211-fe3c35e7ad53",
   "metadata": {},
   "outputs": [
    {
     "name": "stdout",
     "output_type": "stream",
     "text": [
      "Untitled.ipynb\n"
     ]
    }
   ],
   "source": [
    "!ls"
   ]
  },
  {
   "cell_type": "code",
   "execution_count": 5,
   "id": "d1a5ce37-984a-4132-ae80-b1e2dbeb9e00",
   "metadata": {},
   "outputs": [
    {
     "name": "stdout",
     "output_type": "stream",
     "text": [
      "/home/marcos/Escritorio/AI-prod/ML-Prod-Example/notebooks\n"
     ]
    }
   ],
   "source": [
    "!pwd"
   ]
  },
  {
   "cell_type": "code",
   "execution_count": 7,
   "id": "f8fe52c2-e344-4d45-b94d-340b9acd1f60",
   "metadata": {},
   "outputs": [
    {
     "name": "stdout",
     "output_type": "stream",
     "text": [
      "Quantity of 'M' (malignant): 212\n",
      "Quantity of 'B' (benign): 357\n"
     ]
    }
   ],
   "source": [
    "# Count the quantity of 'M' (malignant)\n",
    "count_malignant = df[df['diagnosis'] == 'M'].shape[0]\n",
    "\n",
    "# Count the quantity of 'B' (benign)\n",
    "count_benign = df[df['diagnosis'] == 'B'].shape[0]\n",
    "\n",
    "print(\"Quantity of 'M' (malignant):\", count_malignant)\n",
    "print(\"Quantity of 'B' (benign):\", count_benign)"
   ]
  },
  {
   "cell_type": "code",
   "execution_count": 10,
   "id": "70e351c6-256f-441f-8f3d-54521aa1316c",
   "metadata": {},
   "outputs": [
    {
     "data": {
      "text/plain": [
       "Index(['id', 'diagnosis', 'radius_mean', 'texture_mean', 'perimeter_mean',\n",
       "       'area_mean', 'smoothness_mean', 'compactness_mean', 'concavity_mean',\n",
       "       'concave points_mean', 'symmetry_mean', 'fractal_dimension_mean',\n",
       "       'radius_se', 'texture_se', 'perimeter_se', 'area_se', 'smoothness_se',\n",
       "       'compactness_se', 'concavity_se', 'concave points_se', 'symmetry_se',\n",
       "       'fractal_dimension_se', 'radius_worst', 'texture_worst',\n",
       "       'perimeter_worst', 'area_worst', 'smoothness_worst',\n",
       "       'compactness_worst', 'concavity_worst', 'concave points_worst',\n",
       "       'symmetry_worst', 'fractal_dimension_worst'],\n",
       "      dtype='object')"
      ]
     },
     "execution_count": 10,
     "metadata": {},
     "output_type": "execute_result"
    }
   ],
   "source": [
    "df.columns"
   ]
  },
  {
   "cell_type": "code",
   "execution_count": null,
   "id": "7abee942-4fa0-4091-8b06-340d29a49ade",
   "metadata": {},
   "outputs": [],
   "source": []
  },
  {
   "cell_type": "code",
   "execution_count": null,
   "id": "14e9d540-f126-4809-a4bd-5e6732dae18a",
   "metadata": {},
   "outputs": [],
   "source": []
  },
  {
   "cell_type": "code",
   "execution_count": 11,
   "id": "83cdcc9f-43fa-4c28-b8f2-92f9f73a9c49",
   "metadata": {},
   "outputs": [],
   "source": [
    "#df = df.drop('Unnamed: 32', axis=1)"
   ]
  },
  {
   "cell_type": "code",
   "execution_count": 15,
   "id": "cd778b0e-119c-4bb6-988f-2f79a87e6076",
   "metadata": {},
   "outputs": [
    {
     "name": "stderr",
     "output_type": "stream",
     "text": [
      "2025-08-11 15:58:30.296710: E external/local_xla/xla/stream_executor/cuda/cuda_dnn.cc:9261] Unable to register cuDNN factory: Attempting to register factory for plugin cuDNN when one has already been registered\n",
      "2025-08-11 15:58:30.297154: E external/local_xla/xla/stream_executor/cuda/cuda_fft.cc:607] Unable to register cuFFT factory: Attempting to register factory for plugin cuFFT when one has already been registered\n",
      "2025-08-11 15:58:30.475812: E external/local_xla/xla/stream_executor/cuda/cuda_blas.cc:1515] Unable to register cuBLAS factory: Attempting to register factory for plugin cuBLAS when one has already been registered\n",
      "2025-08-11 15:58:30.856062: I tensorflow/core/platform/cpu_feature_guard.cc:182] This TensorFlow binary is optimized to use available CPU instructions in performance-critical operations.\n",
      "To enable the following instructions: AVX2 FMA, in other operations, rebuild TensorFlow with the appropriate compiler flags.\n",
      "2025-08-11 15:58:32.906339: W tensorflow/compiler/tf2tensorrt/utils/py_utils.cc:38] TF-TRT Warning: Could not find TensorRT\n"
     ]
    }
   ],
   "source": [
    "import pandas as pd\n",
    "import tensorflow as tf\n",
    "from sklearn.model_selection import train_test_split\n",
    "\n",
    "def preprocess_breast_cancer(df, test_size=0.2, val_size=0.1, random_state=42):\n",
    "    # 1. Drop 'Unnamed: 32' if exists\n",
    "    if 'Unnamed: 32' in df.columns:\n",
    "        df = df.drop(columns=['Unnamed: 32'])\n",
    "    \n",
    "    # 2. Drop rows with null values\n",
    "    df = df.dropna()\n",
    "\n",
    "    # 3. Separate features and labels\n",
    "    # Assuming first column is 'id', second column is 'diagnosis' (labels)\n",
    "    # Features start from 3rd column onwards\n",
    "    labels = df['diagnosis']\n",
    "    features = df.drop(columns=['id', 'diagnosis'])\n",
    "\n",
    "    # 4. Encode labels: M=1, B=0\n",
    "    labels_encoded = labels.map({'M': 1, 'B': 0})\n",
    "\n",
    "    # 5. Split data into train+val and test\n",
    "    X_train_val, X_test, y_train_val, y_test = train_test_split(\n",
    "        features, labels_encoded, test_size=test_size, random_state=random_state, stratify=labels_encoded)\n",
    "\n",
    "    # 6. Split train+val into train and val\n",
    "    val_relative_size = val_size / (1 - test_size)  # adjust val size relative to train_val split\n",
    "    X_train, X_val, y_train, y_val = train_test_split(\n",
    "        X_train_val, y_train_val, test_size=val_relative_size, random_state=random_state, stratify=y_train_val)\n",
    "\n",
    "    # 7. Convert to TensorFlow datasets\n",
    "    def df_to_tf_dataset(X, y, batch_size=32, shuffle=True):\n",
    "        ds = tf.data.Dataset.from_tensor_slices((X.values.astype('float32'), y.values.astype('int32')))\n",
    "        if shuffle:\n",
    "            ds = ds.shuffle(buffer_size=len(X))\n",
    "        ds = ds.batch(batch_size)\n",
    "        return ds\n",
    "\n",
    "    train_ds = df_to_tf_dataset(X_train, y_train)\n",
    "    val_ds = df_to_tf_dataset(X_val, y_val, shuffle=False)\n",
    "    test_ds = df_to_tf_dataset(X_test, y_test, shuffle=False)\n",
    "\n",
    "    return train_ds, val_ds, test_ds\n",
    "\n",
    "# Usage example:\n",
    "# df = pd.read_csv('breast_cancer_data.csv')\n",
    "# train_ds, val_ds, test_ds = preprocess_breast_cancer(df)\n"
   ]
  },
  {
   "cell_type": "code",
   "execution_count": 16,
   "id": "54de2e91-34bc-40af-9bf9-55a7ca6a19d9",
   "metadata": {},
   "outputs": [],
   "source": [
    "import pandas as pd\n",
    "import tensorflow as tf\n",
    "from sklearn.model_selection import train_test_split\n",
    "\n",
    "def preprocess_data(df):\n",
    "    if 'Unnamed: 32' in df.columns:\n",
    "        df = df.drop(columns=['Unnamed: 32'])\n",
    "    df = df.dropna()\n",
    "    labels = df['diagnosis'].map({'M': 1, 'B': 0})\n",
    "    features = df.drop(columns=['id', 'diagnosis'])\n",
    "    return features, labels\n",
    "\n",
    "def split_data(features, labels, test_size=0.2, val_size=0.1, random_state=42):\n",
    "    X_train_val, X_test, y_train_val, y_test = train_test_split(\n",
    "        features, labels, test_size=test_size, stratify=labels, random_state=random_state)\n",
    "    val_relative_size = val_size / (1 - test_size)\n",
    "    X_train, X_val, y_train, y_val = train_test_split(\n",
    "        X_train_val, y_train_val, test_size=val_relative_size, stratify=y_train_val, random_state=random_state)\n",
    "    return X_train, X_val, X_test, y_train, y_val, y_test\n",
    "\n",
    "def tf_dataset(X, y, batch_size=32, shuffle=True):\n",
    "    ds = tf.data.Dataset.from_tensor_slices((X.values.astype('float32'), y.values.astype('int32')))\n",
    "    if shuffle:\n",
    "        ds = ds.shuffle(buffer_size=len(X))\n",
    "    return ds.batch(batch_size)\n",
    "\n",
    "# Example usage:\n",
    "# df = pd.read_csv('breast_cancer_data.csv')\n",
    "\n",
    "features, labels = preprocess_data(df)\n",
    "X_train, X_val, X_test, y_train, y_val, y_test = split_data(features, labels)\n",
    "train_ds = tf_dataset(X_train, y_train, shuffle=True)\n",
    "val_ds = tf_dataset(X_val, y_val, shuffle=False)\n",
    "test_ds = tf_dataset(X_test, y_test, shuffle=False)\n"
   ]
  },
  {
   "cell_type": "code",
   "execution_count": 17,
   "id": "c595f564-1ff6-488f-928d-6d8b90c9809f",
   "metadata": {},
   "outputs": [
    {
     "name": "stdout",
     "output_type": "stream",
     "text": [
      "tf.Tensor(\n",
      "[[1.546e+01 1.948e+01 1.017e+02 7.489e+02 1.092e-01 1.223e-01 1.466e-01\n",
      "  8.087e-02 1.931e-01 5.796e-02 4.743e-01 7.859e-01 3.094e+00 4.831e+01\n",
      "  6.240e-03 1.484e-02 2.813e-02 1.093e-02 1.397e-02 2.461e-03 1.926e+01\n",
      "  2.600e+01 1.249e+02 1.156e+03 1.546e-01 2.394e-01 3.791e-01 1.514e-01\n",
      "  2.837e-01 8.019e-02]\n",
      " [1.387e+01 2.070e+01 8.977e+01 5.848e+02 9.578e-02 1.018e-01 3.688e-02\n",
      "  2.369e-02 1.620e-01 6.688e-02 2.720e-01 1.047e+00 2.076e+00 2.312e+01\n",
      "  6.298e-03 2.172e-02 2.615e-02 9.061e-03 1.490e-02 3.599e-03 1.505e+01\n",
      "  2.475e+01 9.917e+01 6.886e+02 1.264e-01 2.037e-01 1.377e-01 6.845e-02\n",
      "  2.249e-01 8.492e-02]\n",
      " [9.436e+00 1.832e+01 5.982e+01 2.786e+02 1.009e-01 5.956e-02 2.710e-02\n",
      "  1.406e-02 1.506e-01 6.959e-02 5.079e-01 1.247e+00 3.267e+00 3.048e+01\n",
      "  6.836e-03 8.982e-03 2.348e-02 6.565e-03 1.942e-02 2.713e-03 1.202e+01\n",
      "  2.502e+01 7.579e+01 4.396e+02 1.333e-01 1.049e-01 1.144e-01 5.052e-02\n",
      "  2.454e-01 8.136e-02]\n",
      " [9.742e+00 1.912e+01 6.193e+01 2.897e+02 1.075e-01 8.333e-02 8.934e-03\n",
      "  1.967e-02 2.538e-01 7.029e-02 6.965e-01 1.747e+00 4.607e+00 4.352e+01\n",
      "  1.307e-02 1.885e-02 6.021e-03 1.052e-02 3.100e-02 4.225e-03 1.121e+01\n",
      "  2.317e+01 7.179e+01 3.809e+02 1.398e-01 1.352e-01 2.085e-02 4.589e-02\n",
      "  3.196e-01 8.009e-02]\n",
      " [8.734e+00 1.684e+01 5.527e+01 2.343e+02 1.039e-01 7.428e-02 0.000e+00\n",
      "  0.000e+00 1.985e-01 7.098e-02 5.169e-01 2.079e+00 3.167e+00 2.885e+01\n",
      "  1.582e-02 1.966e-02 0.000e+00 0.000e+00 1.865e-02 6.736e-03 1.017e+01\n",
      "  2.280e+01 6.401e+01 3.170e+02 1.460e-01 1.310e-01 0.000e+00 0.000e+00\n",
      "  2.445e-01 8.865e-02]\n",
      " [1.066e+01 1.515e+01 6.749e+01 3.496e+02 8.792e-02 4.302e-02 0.000e+00\n",
      "  0.000e+00 1.928e-01 5.975e-02 3.309e-01 1.925e+00 2.155e+00 2.198e+01\n",
      "  8.713e-03 1.017e-02 0.000e+00 0.000e+00 3.265e-02 1.002e-03 1.154e+01\n",
      "  1.920e+01 7.320e+01 4.083e+02 1.076e-01 6.791e-02 0.000e+00 0.000e+00\n",
      "  2.710e-01 6.164e-02]\n",
      " [1.387e+01 1.621e+01 8.852e+01 5.937e+02 8.743e-02 5.492e-02 1.502e-02\n",
      "  2.088e-02 1.424e-01 5.883e-02 2.543e-01 1.363e+00 1.737e+00 2.074e+01\n",
      "  5.638e-03 7.939e-03 5.254e-03 6.042e-03 1.544e-02 2.087e-03 1.511e+01\n",
      "  2.558e+01 9.674e+01 6.944e+02 1.153e-01 1.008e-01 5.285e-02 5.556e-02\n",
      "  2.362e-01 7.113e-02]\n",
      " [1.328e+01 2.028e+01 8.732e+01 5.452e+02 1.041e-01 1.436e-01 9.847e-02\n",
      "  6.158e-02 1.974e-01 6.782e-02 3.704e-01 8.249e-01 2.427e+00 3.133e+01\n",
      "  5.072e-03 2.147e-02 2.185e-02 9.560e-03 1.719e-02 3.317e-03 1.738e+01\n",
      "  2.800e+01 1.131e+02 9.072e+02 1.530e-01 3.724e-01 3.664e-01 1.492e-01\n",
      "  3.739e-01 1.027e-01]\n",
      " [1.444e+01 1.518e+01 9.397e+01 6.401e+02 9.970e-02 1.021e-01 8.487e-02\n",
      "  5.532e-02 1.724e-01 6.081e-02 2.406e-01 7.394e-01 2.120e+00 2.120e+01\n",
      "  5.706e-03 2.297e-02 3.114e-02 1.493e-02 1.454e-02 2.528e-03 1.585e+01\n",
      "  1.985e+01 1.086e+02 7.669e+02 1.316e-01 2.735e-01 3.103e-01 1.599e-01\n",
      "  2.691e-01 7.683e-02]\n",
      " [1.575e+01 1.922e+01 1.071e+02 7.586e+02 1.243e-01 2.364e-01 2.914e-01\n",
      "  1.242e-01 2.375e-01 7.603e-02 5.204e-01 1.324e+00 3.477e+00 5.122e+01\n",
      "  9.329e-03 6.559e-02 9.953e-02 2.283e-02 5.543e-02 7.330e-03 1.736e+01\n",
      "  2.417e+01 1.194e+02 9.153e+02 1.550e-01 5.046e-01 6.872e-01 2.135e-01\n",
      "  4.245e-01 1.050e-01]\n",
      " [1.900e+01 1.891e+01 1.234e+02 1.138e+03 8.217e-02 8.028e-02 9.271e-02\n",
      "  5.627e-02 1.946e-01 5.044e-02 6.896e-01 1.342e+00 5.216e+00 8.123e+01\n",
      "  4.428e-03 2.731e-02 4.040e-02 1.361e-02 2.030e-02 2.686e-03 2.232e+01\n",
      "  2.573e+01 1.482e+02 1.538e+03 1.021e-01 2.264e-01 3.207e-01 1.218e-01\n",
      "  2.841e-01 6.541e-02]\n",
      " [2.171e+01 1.725e+01 1.409e+02 1.546e+03 9.384e-02 8.562e-02 1.168e-01\n",
      "  8.465e-02 1.717e-01 5.054e-02 1.207e+00 1.051e+00 7.733e+00 2.241e+02\n",
      "  5.568e-03 1.112e-02 2.096e-02 1.197e-02 1.263e-02 1.803e-03 3.075e+01\n",
      "  2.644e+01 1.995e+02 3.143e+03 1.363e-01 1.628e-01 2.861e-01 1.820e-01\n",
      "  2.510e-01 6.494e-02]\n",
      " [9.465e+00 2.101e+01 6.011e+01 2.694e+02 1.044e-01 7.773e-02 2.172e-02\n",
      "  1.504e-02 1.717e-01 6.899e-02 2.351e-01 2.011e+00 1.660e+00 1.420e+01\n",
      "  1.052e-02 1.755e-02 1.714e-02 9.333e-03 2.279e-02 4.237e-03 1.041e+01\n",
      "  3.156e+01 6.703e+01 3.307e+02 1.548e-01 1.664e-01 9.412e-02 6.517e-02\n",
      "  2.878e-01 9.211e-02]\n",
      " [1.989e+01 2.026e+01 1.305e+02 1.214e+03 1.037e-01 1.310e-01 1.411e-01\n",
      "  9.431e-02 1.802e-01 6.188e-02 5.079e-01 8.737e-01 3.654e+00 5.970e+01\n",
      "  5.089e-03 2.303e-02 3.052e-02 1.178e-02 1.057e-02 3.391e-03 2.373e+01\n",
      "  2.523e+01 1.605e+02 1.646e+03 1.417e-01 3.309e-01 4.185e-01 1.613e-01\n",
      "  2.549e-01 9.136e-02]\n",
      " [9.876e+00 1.940e+01 6.395e+01 2.983e+02 1.005e-01 9.697e-02 6.154e-02\n",
      "  3.029e-02 1.945e-01 6.322e-02 1.803e-01 1.222e+00 1.528e+00 1.177e+01\n",
      "  9.058e-03 2.196e-02 3.029e-02 1.112e-02 1.609e-02 3.570e-03 1.076e+01\n",
      "  2.683e+01 7.222e+01 3.612e+02 1.559e-01 2.302e-01 2.644e-01 9.749e-02\n",
      "  2.622e-01 8.490e-02]\n",
      " [1.727e+01 2.542e+01 1.124e+02 9.288e+02 8.331e-02 1.109e-01 1.204e-01\n",
      "  5.736e-02 1.467e-01 5.407e-02 5.100e-01 1.679e+00 3.283e+00 5.838e+01\n",
      "  8.109e-03 4.308e-02 4.942e-02 1.742e-02 1.594e-02 3.739e-03 2.038e+01\n",
      "  3.546e+01 1.328e+02 1.284e+03 1.436e-01 4.122e-01 5.036e-01 1.739e-01\n",
      "  2.500e-01 7.944e-02]\n",
      " [1.334e+01 1.586e+01 8.649e+01 5.200e+02 1.078e-01 1.535e-01 1.169e-01\n",
      "  6.987e-02 1.942e-01 6.902e-02 2.860e-01 1.016e+00 1.535e+00 1.296e+01\n",
      "  6.794e-03 3.575e-02 3.980e-02 1.383e-02 2.134e-02 4.603e-03 1.553e+01\n",
      "  2.319e+01 9.666e+01 6.149e+02 1.536e-01 4.791e-01 4.858e-01 1.708e-01\n",
      "  3.527e-01 1.016e-01]\n",
      " [1.504e+01 1.674e+01 9.873e+01 6.894e+02 9.883e-02 1.364e-01 7.721e-02\n",
      "  6.142e-02 1.668e-01 6.869e-02 3.720e-01 8.423e-01 2.304e+00 3.484e+01\n",
      "  4.123e-03 1.819e-02 1.996e-02 1.004e-02 1.055e-02 3.237e-03 1.676e+01\n",
      "  2.043e+01 1.097e+02 8.569e+02 1.135e-01 2.176e-01 1.856e-01 1.018e-01\n",
      "  2.177e-01 8.549e-02]\n",
      " [1.126e+01 1.996e+01 7.372e+01 3.941e+02 8.020e-02 1.181e-01 9.274e-02\n",
      "  5.588e-02 2.595e-01 6.233e-02 4.866e-01 1.905e+00 2.877e+00 3.468e+01\n",
      "  1.574e-02 8.262e-02 8.099e-02 3.487e-02 3.418e-02 6.517e-03 1.186e+01\n",
      "  2.233e+01 7.827e+01 4.376e+02 1.028e-01 1.843e-01 1.546e-01 9.314e-02\n",
      "  2.955e-01 7.009e-02]\n",
      " [1.429e+01 1.682e+01 9.030e+01 6.326e+02 6.429e-02 2.675e-02 7.250e-03\n",
      "  6.250e-03 1.508e-01 5.376e-02 1.302e-01 7.198e-01 8.439e-01 1.077e+01\n",
      "  3.492e-03 3.710e-03 4.826e-03 3.608e-03 1.536e-02 1.381e-03 1.491e+01\n",
      "  2.065e+01 9.444e+01 6.846e+02 8.567e-02 5.036e-02 3.866e-02 3.333e-02\n",
      "  2.458e-01 6.120e-02]\n",
      " [2.058e+01 2.214e+01 1.347e+02 1.290e+03 9.090e-02 1.348e-01 1.640e-01\n",
      "  9.561e-02 1.765e-01 5.024e-02 8.601e-01 1.480e+00 7.029e+00 1.117e+02\n",
      "  8.124e-03 3.611e-02 5.489e-02 2.765e-02 3.176e-02 2.365e-03 2.324e+01\n",
      "  2.784e+01 1.583e+02 1.656e+03 1.178e-01 2.920e-01 3.861e-01 1.920e-01\n",
      "  2.909e-01 5.865e-02]\n",
      " [1.426e+01 1.817e+01 9.122e+01 6.331e+02 6.576e-02 5.220e-02 2.475e-02\n",
      "  1.374e-02 1.635e-01 5.586e-02 2.300e-01 6.690e-01 1.661e+00 2.056e+01\n",
      "  3.169e-03 1.377e-02 1.079e-02 5.243e-03 1.103e-02 1.957e-03 1.622e+01\n",
      "  2.526e+01 1.058e+02 8.197e+02 9.445e-02 2.167e-01 1.565e-01 7.530e-02\n",
      "  2.636e-01 7.676e-02]\n",
      " [1.204e+01 2.814e+01 7.685e+01 4.499e+02 8.752e-02 6.000e-02 2.367e-02\n",
      "  2.377e-02 1.854e-01 5.698e-02 6.061e-01 2.643e+00 4.099e+00 4.496e+01\n",
      "  7.517e-03 1.555e-02 1.465e-02 1.183e-02 2.047e-02 3.883e-03 1.360e+01\n",
      "  3.333e+01 8.724e+01 5.676e+02 1.041e-01 9.726e-02 5.524e-02 5.547e-02\n",
      "  2.404e-01 6.639e-02]\n",
      " [1.295e+01 1.602e+01 8.314e+01 5.137e+02 1.005e-01 7.943e-02 6.155e-02\n",
      "  3.370e-02 1.730e-01 6.470e-02 2.094e-01 7.636e-01 1.231e+00 1.767e+01\n",
      "  8.725e-03 2.003e-02 2.335e-02 1.132e-02 2.625e-02 4.726e-03 1.374e+01\n",
      "  1.993e+01 8.881e+01 5.854e+02 1.483e-01 2.068e-01 2.241e-01 1.056e-01\n",
      "  3.380e-01 9.584e-02]\n",
      " [1.127e+01 1.296e+01 7.316e+01 3.863e+02 1.237e-01 1.111e-01 7.900e-02\n",
      "  5.550e-02 2.018e-01 6.914e-02 2.562e-01 9.858e-01 1.809e+00 1.604e+01\n",
      "  6.635e-03 1.777e-02 2.101e-02 1.164e-02 2.108e-02 3.721e-03 1.284e+01\n",
      "  2.053e+01 8.493e+01 4.761e+02 1.610e-01 2.429e-01 2.247e-01 1.318e-01\n",
      "  3.343e-01 9.215e-02]\n",
      " [1.478e+01 2.394e+01 9.740e+01 6.683e+02 1.172e-01 1.479e-01 1.267e-01\n",
      "  9.029e-02 1.953e-01 6.654e-02 3.577e-01 1.281e+00 2.450e+00 3.524e+01\n",
      "  6.703e-03 2.310e-02 2.315e-02 1.184e-02 1.900e-02 3.224e-03 1.731e+01\n",
      "  3.339e+01 1.146e+02 9.251e+02 1.648e-01 3.416e-01 3.024e-01 1.614e-01\n",
      "  3.321e-01 8.911e-02]\n",
      " [1.461e+01 1.569e+01 9.268e+01 6.649e+02 7.618e-02 3.515e-02 1.447e-02\n",
      "  1.877e-02 1.632e-01 5.255e-02 3.160e-01 9.115e-01 1.954e+00 2.890e+01\n",
      "  5.031e-03 6.021e-03 5.325e-03 6.324e-03 1.494e-02 8.948e-04 1.646e+01\n",
      "  2.175e+01 1.037e+02 8.408e+02 1.011e-01 7.087e-02 4.746e-02 5.813e-02\n",
      "  2.530e-01 5.695e-02]\n",
      " [1.300e+01 2.513e+01 8.261e+01 5.202e+02 8.369e-02 5.073e-02 1.206e-02\n",
      "  1.762e-02 1.667e-01 5.449e-02 2.621e-01 1.232e+00 1.657e+00 2.119e+01\n",
      "  6.054e-03 8.974e-03 5.681e-03 6.336e-03 1.215e-02 1.514e-03 1.434e+01\n",
      "  3.188e+01 9.106e+01 6.285e+02 1.218e-01 1.093e-01 4.462e-02 5.921e-02\n",
      "  2.306e-01 6.291e-02]\n",
      " [1.106e+01 1.483e+01 7.031e+01 3.782e+02 7.741e-02 4.768e-02 2.712e-02\n",
      "  7.246e-03 1.535e-01 6.214e-02 1.855e-01 6.881e-01 1.263e+00 1.298e+01\n",
      "  4.259e-03 1.469e-02 1.940e-02 4.168e-03 1.191e-02 3.537e-03 1.268e+01\n",
      "  2.035e+01 8.079e+01 4.967e+02 1.120e-01 1.879e-01 2.079e-01 5.556e-02\n",
      "  2.590e-01 9.158e-02]\n",
      " [1.277e+01 2.247e+01 8.172e+01 5.063e+02 9.055e-02 5.761e-02 4.711e-02\n",
      "  2.704e-02 1.585e-01 6.065e-02 2.367e-01 1.380e+00 1.457e+00 1.987e+01\n",
      "  7.499e-03 1.202e-02 2.332e-02 8.920e-03 1.647e-02 2.629e-03 1.449e+01\n",
      "  3.337e+01 9.204e+01 6.536e+02 1.419e-01 1.523e-01 2.177e-01 9.331e-02\n",
      "  2.829e-01 8.067e-02]\n",
      " [1.849e+01 1.752e+01 1.213e+02 1.068e+03 1.012e-01 1.317e-01 1.491e-01\n",
      "  9.183e-02 1.832e-01 6.697e-02 7.923e-01 1.045e+00 4.851e+00 9.577e+01\n",
      "  7.974e-03 3.214e-02 4.435e-02 1.573e-02 1.617e-02 5.255e-03 2.275e+01\n",
      "  2.288e+01 1.464e+02 1.600e+03 1.412e-01 3.089e-01 3.533e-01 1.663e-01\n",
      "  2.510e-01 9.445e-02]\n",
      " [1.385e+01 1.518e+01 8.899e+01 5.874e+02 9.516e-02 7.688e-02 4.479e-02\n",
      "  3.711e-02 2.110e-01 5.853e-02 2.479e-01 9.195e-01 1.830e+00 1.941e+01\n",
      "  4.235e-03 1.541e-02 1.457e-02 1.043e-02 1.528e-02 1.593e-03 1.498e+01\n",
      "  2.174e+01 9.837e+01 6.700e+02 1.185e-01 1.724e-01 1.456e-01 9.993e-02\n",
      "  2.955e-01 6.912e-02]], shape=(32, 30), dtype=float32) tf.Tensor([1 0 0 0 0 0 0 1 0 1 1 1 0 1 0 1 0 0 0 0 1 0 0 0 0 1 0 0 0 1 1 0], shape=(32,), dtype=int32)\n"
     ]
    }
   ],
   "source": [
    "for x,y in train_ds:\n",
    "    print(x, y)\n",
    "    break"
   ]
  },
  {
   "cell_type": "code",
   "execution_count": null,
   "id": "b0c365b8-320a-482b-9492-2fbacd47c1b6",
   "metadata": {},
   "outputs": [],
   "source": []
  },
  {
   "cell_type": "code",
   "execution_count": 1,
   "id": "7292d6db-44b2-4755-af71-2eb070eea055",
   "metadata": {},
   "outputs": [
    {
     "name": "stderr",
     "output_type": "stream",
     "text": [
      "2025-08-12 15:40:52.941665: E external/local_xla/xla/stream_executor/cuda/cuda_dnn.cc:9261] Unable to register cuDNN factory: Attempting to register factory for plugin cuDNN when one has already been registered\n",
      "2025-08-12 15:40:52.941702: E external/local_xla/xla/stream_executor/cuda/cuda_fft.cc:607] Unable to register cuFFT factory: Attempting to register factory for plugin cuFFT when one has already been registered\n",
      "2025-08-12 15:40:52.943017: E external/local_xla/xla/stream_executor/cuda/cuda_blas.cc:1515] Unable to register cuBLAS factory: Attempting to register factory for plugin cuBLAS when one has already been registered\n",
      "2025-08-12 15:40:52.949911: I tensorflow/core/platform/cpu_feature_guard.cc:182] This TensorFlow binary is optimized to use available CPU instructions in performance-critical operations.\n",
      "To enable the following instructions: AVX2 FMA, in other operations, rebuild TensorFlow with the appropriate compiler flags.\n",
      "2025-08-12 15:40:54.400337: W tensorflow/compiler/tf2tensorrt/utils/py_utils.cc:38] TF-TRT Warning: Could not find TensorRT\n"
     ]
    }
   ],
   "source": [
    "from tensorflow.keras.models import Sequential\n",
    "from tensorflow.keras.layers import Dense, Dropout, Input\n",
    "\n",
    "\n",
    "\n",
    "\n",
    "def build_model_with_dropout(dropout_rate=0.1):\n",
    "    model = Sequential([\n",
    "        #Input(shape=(None,)),  # None means \"any number of features\"\n",
    "        Dense(16, activation='relu'),\n",
    "        Dropout(dropout_rate),\n",
    "        Dense(16, activation='relu'),\n",
    "        Dropout(dropout_rate),\n",
    "        Dense(1, activation='sigmoid')\n",
    "    ])\n",
    "    return model\n"
   ]
  },
  {
   "cell_type": "code",
   "execution_count": 15,
   "id": "abe47263-0ae3-429f-a656-5f8be558fec7",
   "metadata": {},
   "outputs": [],
   "source": [
    "import tensorflow as tf\n",
    "\n",
    "from tensorflow.keras import metrics\n",
    "\n",
    "def compile_model(model, learning_rate=1e-3):\n",
    "    model.compile(\n",
    "        optimizer=tf.keras.optimizers.Adam(learning_rate=learning_rate),\n",
    "        loss='binary_crossentropy',\n",
    "        metrics=[metrics.BinaryAccuracy(name='accuracy'),\n",
    "            metrics.Precision(name='precision'),\n",
    "            metrics.Recall(name='recall')]\n",
    "    )"
   ]
  },
  {
   "cell_type": "code",
   "execution_count": null,
   "id": "1ac10af8-fc8a-40e8-ac19-ba32e27c6b64",
   "metadata": {},
   "outputs": [],
   "source": []
  },
  {
   "cell_type": "code",
   "execution_count": 16,
   "id": "0577a4d4-d57e-43c9-a7bb-290d6725dc85",
   "metadata": {},
   "outputs": [],
   "source": [
    "model = build_model_with_dropout()\n",
    "compile_model(model, learning_rate=0.005)"
   ]
  },
  {
   "cell_type": "code",
   "execution_count": 17,
   "id": "c072c3e4-7113-4aa2-8d3e-be325e29f4b0",
   "metadata": {},
   "outputs": [
    {
     "data": {
      "text/plain": [
       "[]"
      ]
     },
     "execution_count": 17,
     "metadata": {},
     "output_type": "execute_result"
    }
   ],
   "source": [
    "model.metrics"
   ]
  },
  {
   "cell_type": "code",
   "execution_count": 18,
   "id": "4a4ed693-a1c9-4d3d-bfb4-d1f3973907ee",
   "metadata": {},
   "outputs": [
    {
     "name": "stdout",
     "output_type": "stream",
     "text": [
      "1/1 [==============================] - 0s 90ms/step\n"
     ]
    }
   ],
   "source": [
    "import numpy as np\n",
    "\n",
    "dummy_input = np.random.rand(1, 10).astype('float32')  # batch=1, features=10\n",
    "_ = model.predict(dummy_input)  # build the model by calling predict"
   ]
  },
  {
   "cell_type": "code",
   "execution_count": null,
   "id": "808c66d0-c5af-4f41-b864-b8a6672c7362",
   "metadata": {},
   "outputs": [],
   "source": []
  },
  {
   "cell_type": "code",
   "execution_count": 19,
   "id": "282e4f78-ba7c-4340-b801-eae2e5690339",
   "metadata": {},
   "outputs": [
    {
     "name": "stdout",
     "output_type": "stream",
     "text": [
      "Model: \"sequential_2\"\n",
      "_________________________________________________________________\n",
      " Layer (type)                Output Shape              Param #   \n",
      "=================================================================\n",
      " dense_6 (Dense)             (None, 16)                176       \n",
      "                                                                 \n",
      " dropout_4 (Dropout)         (None, 16)                0         \n",
      "                                                                 \n",
      " dense_7 (Dense)             (None, 16)                272       \n",
      "                                                                 \n",
      " dropout_5 (Dropout)         (None, 16)                0         \n",
      "                                                                 \n",
      " dense_8 (Dense)             (None, 1)                 17        \n",
      "                                                                 \n",
      "=================================================================\n",
      "Total params: 465 (1.82 KB)\n",
      "Trainable params: 465 (1.82 KB)\n",
      "Non-trainable params: 0 (0.00 Byte)\n",
      "_________________________________________________________________\n"
     ]
    }
   ],
   "source": [
    "model.summary()"
   ]
  },
  {
   "cell_type": "code",
   "execution_count": null,
   "id": "4f8fc529-a498-43fa-a296-0b6d69b93a63",
   "metadata": {},
   "outputs": [],
   "source": []
  },
  {
   "cell_type": "code",
   "execution_count": null,
   "id": "27534f52-2089-4df1-8233-d6f909cb7683",
   "metadata": {},
   "outputs": [],
   "source": []
  },
  {
   "cell_type": "code",
   "execution_count": null,
   "id": "794e9186-76f3-473e-8267-a54b3c1891a3",
   "metadata": {},
   "outputs": [],
   "source": []
  },
  {
   "cell_type": "code",
   "execution_count": null,
   "id": "6f53b986-7038-4f43-8e57-976b904a13c4",
   "metadata": {},
   "outputs": [],
   "source": []
  },
  {
   "cell_type": "code",
   "execution_count": 20,
   "id": "e81c1cf6-0c9e-4819-920b-5cf1af42c840",
   "metadata": {},
   "outputs": [
    {
     "data": {
      "text/plain": [
       "[]"
      ]
     },
     "execution_count": 20,
     "metadata": {},
     "output_type": "execute_result"
    }
   ],
   "source": [
    "model.metrics"
   ]
  },
  {
   "cell_type": "code",
   "execution_count": null,
   "id": "d7b2e427-db78-4e1e-813c-2a17eb9bdc5e",
   "metadata": {},
   "outputs": [],
   "source": [
    "def test_compile_model():\n",
    "    model = build_model_with_dropout()\n",
    "    compile_model(model, learning_rate=0.005)\n",
    "\n",
    "    assert isinstance(model.optimizer, tf.keras.optimizers.Adam)\n",
    "    assert abs(model.optimizer.learning_rate.numpy() - 0.005) < 1e-6\n",
    "\n",
    "    assert model.loss == 'binary_crossentropy'\n",
    "\n",
    "    #metric_names = [m.name for m in model.metrics] -> da ['loss', 'compile_metroics']\n",
    "\n",
    "    metric_names = []\n",
    "    for m in model.metrics:\n",
    "        # CompileMetrics object contains metric objects\n",
    "        if hasattr(m, 'metrics'):\n",
    "            metric_names.extend([metric.name for metric in m.metrics])\n",
    "        else:\n",
    "            metric_names.append(m.name)\n",
    "\n",
    "\n",
    "    print(metric_names)\n",
    "    assert 'accuracy' in metric_names\n",
    "    assert 'precision' in metric_names\n",
    "    assert 'recall' in metric_names"
   ]
  },
  {
   "cell_type": "code",
   "execution_count": null,
   "id": "c5649359-a1ad-4b6f-b35b-e191e127bb4d",
   "metadata": {},
   "outputs": [],
   "source": []
  },
  {
   "cell_type": "code",
   "execution_count": null,
   "id": "7dadb13e-d85e-4783-a530-4a1e9cc6ae69",
   "metadata": {},
   "outputs": [],
   "source": []
  },
  {
   "cell_type": "code",
   "execution_count": null,
   "id": "711bca09-1a16-4677-9db4-3725e606b00f",
   "metadata": {},
   "outputs": [],
   "source": []
  },
  {
   "cell_type": "code",
   "execution_count": 21,
   "id": "f13fd16b-114d-4d89-bef7-4b77d9045372",
   "metadata": {},
   "outputs": [
    {
     "name": "stdout",
     "output_type": "stream",
     "text": [
      "1/1 [==============================] - 0s 42ms/step\n",
      "[]\n"
     ]
    }
   ],
   "source": [
    "import tensorflow as tf\n",
    "from tensorflow.keras.models import Sequential\n",
    "from tensorflow.keras.layers import Dense, Dropout\n",
    "from tensorflow.keras import metrics\n",
    "import numpy as np\n",
    "\n",
    "def build_model_with_dropout(dropout_rate=0.1, input_dim=10):\n",
    "    model = Sequential([\n",
    "        Dense(16, activation='relu', input_shape=(input_dim,)),\n",
    "        Dropout(dropout_rate),\n",
    "        Dense(16, activation='relu'),\n",
    "        Dropout(dropout_rate),\n",
    "        Dense(1, activation='sigmoid')\n",
    "    ])\n",
    "    return model\n",
    "\n",
    "def compile_model(model, learning_rate=1e-3):\n",
    "    model.compile(\n",
    "        optimizer=tf.keras.optimizers.Adam(learning_rate=learning_rate),\n",
    "        loss='binary_crossentropy',\n",
    "        metrics=[\n",
    "            metrics.BinaryAccuracy(name='accuracy'),\n",
    "            metrics.Precision(name='precision'),\n",
    "            metrics.Recall(name='recall')\n",
    "        ]\n",
    "    )\n",
    "\n",
    "model = build_model_with_dropout()\n",
    "compile_model(model)\n",
    "\n",
    "dummy_x = np.random.rand(1, 10).astype('float32')\n",
    "model.predict(dummy_x)\n",
    "\n",
    "print([m.name for m in model.metrics])\n"
   ]
  },
  {
   "cell_type": "code",
   "execution_count": 22,
   "id": "b1ba3213-b78f-40b9-adc8-58ffac3e5ea7",
   "metadata": {},
   "outputs": [
    {
     "name": "stdout",
     "output_type": "stream",
     "text": [
      "2.15.0\n"
     ]
    }
   ],
   "source": [
    "(print(tf.__version__)) "
   ]
  },
  {
   "cell_type": "code",
   "execution_count": 23,
   "id": "0f2b98d2-9d71-458f-be5a-194e710c7b41",
   "metadata": {},
   "outputs": [
    {
     "name": "stdout",
     "output_type": "stream",
     "text": [
      "['loss', 'accuracy', 'precision', 'recall']\n"
     ]
    }
   ],
   "source": [
    "import numpy as np\n",
    "\n",
    "# Build and compile as before\n",
    "model = build_model_with_dropout()\n",
    "compile_model(model)\n",
    "\n",
    "# Dummy input and labels\n",
    "dummy_x = np.random.rand(4, 10).astype('float32')\n",
    "dummy_y = np.array([0, 1, 0, 1]).astype('float32')\n",
    "\n",
    "# Run a single training step (or evaluation)\n",
    "model.train_on_batch(dummy_x, dummy_y)\n",
    "\n",
    "# Now metrics are initialized\n",
    "print([m.name for m in model.metrics])\n"
   ]
  },
  {
   "cell_type": "code",
   "execution_count": null,
   "id": "d625e8f3-9766-4b5d-ac76-004f814ac605",
   "metadata": {},
   "outputs": [],
   "source": []
  }
 ],
 "metadata": {
  "kernelspec": {
   "display_name": "Python 3 (ipykernel)",
   "language": "python",
   "name": "python3"
  },
  "language_info": {
   "codemirror_mode": {
    "name": "ipython",
    "version": 3
   },
   "file_extension": ".py",
   "mimetype": "text/x-python",
   "name": "python",
   "nbconvert_exporter": "python",
   "pygments_lexer": "ipython3",
   "version": "3.10.12"
  }
 },
 "nbformat": 4,
 "nbformat_minor": 5
}
