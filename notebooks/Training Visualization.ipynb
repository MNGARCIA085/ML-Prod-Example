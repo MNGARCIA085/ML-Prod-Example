{
 "cells": [
  {
   "cell_type": "markdown",
   "id": "9fc8dedc-9e63-4efa-8f8a-db6769495400",
   "metadata": {},
   "source": [
    "# TRAINING VIS."
   ]
  },
  {
   "cell_type": "markdown",
   "id": "166b650c-4f5a-45da-a622-27f529e1868b",
   "metadata": {},
   "source": [
    "## Baseline"
   ]
  },
  {
   "cell_type": "markdown",
   "id": "93abd341-389a-44fb-9d39-387d806ea6eb",
   "metadata": {},
   "source": [
    "### Normalized data"
   ]
  },
  {
   "cell_type": "markdown",
   "id": "06f5df96-6b52-41ab-bcca-909f450a3e0e",
   "metadata": {},
   "source": [
    "ordenar por fechga\n",
    "\n",
    "ver lkas ultimas 2 de cada modelo; realizar un mínimo análisis, por ej. relativo al overfitting;\n",
    "\n",
    "\n"
   ]
  },
  {
   "cell_type": "code",
   "execution_count": null,
   "id": "e633e39c-e698-421d-b23b-ba4661b972ec",
   "metadata": {},
   "outputs": [],
   "source": []
  },
  {
   "cell_type": "code",
   "execution_count": null,
   "id": "2a51e0fb-375b-4650-bd90-ee2d17f4c598",
   "metadata": {},
   "outputs": [],
   "source": []
  },
  {
   "cell_type": "code",
   "execution_count": 13,
   "id": "d4fe17d2-4267-40b4-97eb-fc26d75a6954",
   "metadata": {},
   "outputs": [],
   "source": [
    "import json\n",
    "import matplotlib.pyplot as plt\n",
    "from pathlib import Path\n",
    "from collections import defaultdict\n",
    "\n",
    "# Path to runs_index.json\n",
    "index_path = Path(\"../logs/training/baseline/testing_purposes/runs_index.json\")\n",
    "\n",
    "# Load runs_index.json\n",
    "with open(index_path) as f:\n",
    "    runs_index = json.load(f)\n",
    "\n",
    "# Sort by timestamp\n",
    "runs_index.sort(key=lambda x: x[\"timestamp\"])\n",
    "\n",
    "# Base directory for JSON files\n",
    "base_dir = index_path.parent\n",
    "\n",
    "# Group runs by model_name\n",
    "models = defaultdict(list)\n",
    "for run in runs_index:\n",
    "    run_path = base_dir / run[\"json_file\"]\n",
    "    with open(run_path) as f:\n",
    "        run_data = json.load(f)\n",
    "    models[run_data[\"model_name\"]].append(run_data)\n",
    "\n",
    "\n",
    "# goal of the previous part -> order by date!!!!!"
   ]
  },
  {
   "cell_type": "code",
   "execution_count": 24,
   "id": "b373d82e-27c5-4ec3-a83e-2ccaddb1f7e9",
   "metadata": {
    "scrolled": true
   },
   "outputs": [
    {
     "data": {
      "text/plain": [
       "{'loss': [49.904815673828125, 21.372377395629883],\n",
       " 'val_loss': [27.674236297607422, 11.186029434204102],\n",
       " 'accuracy': [0.6180904507637024, 0.43718594312667847],\n",
       " 'val_accuracy': [0.6140350699424744, 0.19298245012760162]}"
      ]
     },
     "execution_count": 24,
     "metadata": {},
     "output_type": "execute_result"
    }
   ],
   "source": [
    "models['baseline'][0]['history']"
   ]
  },
  {
   "cell_type": "code",
   "execution_count": null,
   "id": "bf759931-dbeb-4439-984d-d3137556aa2e",
   "metadata": {},
   "outputs": [],
   "source": []
  },
  {
   "cell_type": "code",
   "execution_count": 32,
   "id": "c9211ffe-04ee-46cf-b3b5-e6a48ddac287",
   "metadata": {},
   "outputs": [
    {
     "name": "stdout",
     "output_type": "stream",
     "text": [
      "=== Basic Info ===\n"
     ]
    },
    {
     "data": {
      "text/html": [
       "<div>\n",
       "<style scoped>\n",
       "    .dataframe tbody tr th:only-of-type {\n",
       "        vertical-align: middle;\n",
       "    }\n",
       "\n",
       "    .dataframe tbody tr th {\n",
       "        vertical-align: top;\n",
       "    }\n",
       "\n",
       "    .dataframe thead th {\n",
       "        text-align: right;\n",
       "    }\n",
       "</style>\n",
       "<table border=\"1\" class=\"dataframe\">\n",
       "  <thead>\n",
       "    <tr style=\"text-align: right;\">\n",
       "      <th></th>\n",
       "      <th>model_name</th>\n",
       "      <th>data_variant</th>\n",
       "      <th>timestamp</th>\n",
       "      <th>test_loss</th>\n",
       "      <th>test_accuracy</th>\n",
       "    </tr>\n",
       "  </thead>\n",
       "  <tbody>\n",
       "    <tr>\n",
       "      <th>0</th>\n",
       "      <td>baseline</td>\n",
       "      <td>testing_purposes</td>\n",
       "      <td>20250814_150158</td>\n",
       "      <td>11.006035</td>\n",
       "      <td>0.201754</td>\n",
       "    </tr>\n",
       "  </tbody>\n",
       "</table>\n",
       "</div>"
      ],
      "text/plain": [
       "  model_name      data_variant        timestamp  test_loss  test_accuracy\n",
       "0   baseline  testing_purposes  20250814_150158  11.006035       0.201754"
      ]
     },
     "metadata": {},
     "output_type": "display_data"
    },
    {
     "name": "stdout",
     "output_type": "stream",
     "text": [
      "=== Hyperparameters (Vertical) ===\n"
     ]
    },
    {
     "data": {
      "text/html": [
       "<div>\n",
       "<style scoped>\n",
       "    .dataframe tbody tr th:only-of-type {\n",
       "        vertical-align: middle;\n",
       "    }\n",
       "\n",
       "    .dataframe tbody tr th {\n",
       "        vertical-align: top;\n",
       "    }\n",
       "\n",
       "    .dataframe thead th {\n",
       "        text-align: right;\n",
       "    }\n",
       "</style>\n",
       "<table border=\"1\" class=\"dataframe\">\n",
       "  <thead>\n",
       "    <tr style=\"text-align: right;\">\n",
       "      <th></th>\n",
       "      <th>Parameter</th>\n",
       "      <th>Value</th>\n",
       "    </tr>\n",
       "  </thead>\n",
       "  <tbody>\n",
       "    <tr>\n",
       "      <th>0</th>\n",
       "      <td>batch_size</td>\n",
       "      <td>64</td>\n",
       "    </tr>\n",
       "    <tr>\n",
       "      <th>1</th>\n",
       "      <td>optimizer</td>\n",
       "      <td>adam</td>\n",
       "    </tr>\n",
       "    <tr>\n",
       "      <th>2</th>\n",
       "      <td>learning_rate</td>\n",
       "      <td>0.001</td>\n",
       "    </tr>\n",
       "    <tr>\n",
       "      <th>3</th>\n",
       "      <td>epochs</td>\n",
       "      <td>2</td>\n",
       "    </tr>\n",
       "  </tbody>\n",
       "</table>\n",
       "</div>"
      ],
      "text/plain": [
       "       Parameter  Value\n",
       "0     batch_size     64\n",
       "1      optimizer   adam\n",
       "2  learning_rate  0.001\n",
       "3         epochs      2"
      ]
     },
     "metadata": {},
     "output_type": "display_data"
    }
   ],
   "source": [
    "import pandas as pd\n",
    "from IPython.display import display\n",
    "\n",
    "data = {\n",
    "    'model_name': 'baseline',\n",
    "    'data_variant': 'testing_purposes',\n",
    "    'timestamp': '20250814_150158',\n",
    "    'test_loss': 11.006034851074219,\n",
    "    'test_accuracy': 0.2017543911933899,\n",
    "    'hyperparameters': {\n",
    "        'batch_size': 64,\n",
    "        'optimizer': 'adam',\n",
    "        'learning_rate': 0.001,\n",
    "        'epochs': 2\n",
    "    }\n",
    "}\n",
    "\n",
    "# Separate basic info and hyperparameters\n",
    "basic_info_keys = ['model_name', 'data_variant', 'timestamp', 'test_loss', 'test_accuracy']\n",
    "basic_info = {k: data[k] for k in basic_info_keys}\n",
    "hyperparams = data['hyperparameters']\n",
    "\n",
    "# Convert to DataFrames\n",
    "df_basic = pd.DataFrame([basic_info])\n",
    "df_hyper = pd.DataFrame([hyperparams])\n",
    "\n",
    "# Display nicely in notebook\n",
    "print(\"=== Basic Info ===\")\n",
    "display(df_basic)\n",
    "\n",
    "#print(\"=== Hyperparameters ===\")\n",
    "#display(df_hyper)\n",
    "\n",
    "# Convert to vertical table\n",
    "df_hyper_vertical = pd.DataFrame(list(hyperparams.items()), columns=['Parameter', 'Value'])\n",
    "\n",
    "print(\"=== Hyperparameters (Vertical) ===\")\n",
    "display(df_hyper_vertical)"
   ]
  },
  {
   "cell_type": "code",
   "execution_count": null,
   "id": "ae387beb-09d3-4297-859e-e89d79b62d5e",
   "metadata": {},
   "outputs": [],
   "source": []
  },
  {
   "cell_type": "code",
   "execution_count": 28,
   "id": "de5aa87a-10b8-4f75-9ed4-11f5b2ea85c8",
   "metadata": {
    "scrolled": true
   },
   "outputs": [
    {
     "data": {
      "text/plain": [
       "{'model_name': 'baseline',\n",
       " 'data_variant': 'testing_purposes',\n",
       " 'timestamp': '20250814_150158',\n",
       " 'test_loss': 11.006034851074219,\n",
       " 'test_accuracy': 0.2017543911933899,\n",
       " 'hyperparameters': {'batch_size': 64,\n",
       "  'optimizer': 'adam',\n",
       "  'learning_rate': 0.0010000000474974513,\n",
       "  'epochs': 2},\n",
       " 'history': {'loss': [49.904815673828125, 21.372377395629883],\n",
       "  'val_loss': [27.674236297607422, 11.186029434204102],\n",
       "  'accuracy': [0.6180904507637024, 0.43718594312667847],\n",
       "  'val_accuracy': [0.6140350699424744, 0.19298245012760162]}}"
      ]
     },
     "execution_count": 28,
     "metadata": {},
     "output_type": "execute_result"
    }
   ],
   "source": [
    "models['baseline'][0]"
   ]
  },
  {
   "cell_type": "code",
   "execution_count": 27,
   "id": "0d1345a9-3352-4ca1-afc1-f1cac755c4cc",
   "metadata": {},
   "outputs": [
    {
     "name": "stdout",
     "output_type": "stream",
     "text": [
      "{'loss': [49.904815673828125, 21.372377395629883], 'val_loss': [27.674236297607422, 11.186029434204102], 'accuracy': [0.6180904507637024, 0.43718594312667847], 'val_accuracy': [0.6140350699424744, 0.19298245012760162]}\n"
     ]
    },
    {
     "data": {
      "image/png": "[encoded data removed]",
      "text/plain": [
       "<Figure size 1200x500 with 2 Axes>"
      ]
     },
     "metadata": {},
     "output_type": "display_data"
    }
   ],
   "source": [
    "# with loss and acc\n",
    "def plot_history(history):\n",
    "    # Plot\n",
    "    plt.figure(figsize=(12, 5))\n",
    "    \n",
    "    # Loss\n",
    "    plt.subplot(1, 2, 1)\n",
    "    plt.plot(history['loss'], label='train_loss', marker='o')\n",
    "    plt.plot(history['val_loss'], label='val_loss', marker='o')\n",
    "    plt.title('Loss')\n",
    "    plt.xlabel('Epoch')\n",
    "    plt.ylabel('Loss')\n",
    "    plt.legend()\n",
    "    \n",
    "    # Accuracy\n",
    "    plt.subplot(1, 2, 2)\n",
    "    plt.plot(history['accuracy'], label='train_acc', marker='o')\n",
    "    plt.plot(history['val_accuracy'], label='val_acc', marker='o')\n",
    "    plt.title('Accuracy')\n",
    "    plt.xlabel('Epoch')\n",
    "    plt.ylabel('Accuracy')\n",
    "    plt.legend()\n",
    "    \n",
    "    plt.show()\n",
    "        \n",
    "\n",
    "history = models['baseline'][0]['history']\n",
    "print(history)\n",
    "plot_history(history)"
   ]
  },
  {
   "cell_type": "code",
   "execution_count": null,
   "id": "b868a8ce-630f-4c46-b217-84fd9f077695",
   "metadata": {},
   "outputs": [],
   "source": []
  },
  {
   "cell_type": "code",
   "execution_count": null,
   "id": "82b9d89a-6617-4481-9685-c24cfbfab924",
   "metadata": {},
   "outputs": [],
   "source": []
  },
  {
   "cell_type": "code",
   "execution_count": null,
   "id": "6418c2d4-be3f-4df6-bd71-6e5e048bb71a",
   "metadata": {},
   "outputs": [],
   "source": []
  },
  {
   "cell_type": "code",
   "execution_count": null,
   "id": "dc15edf0-0a2f-4176-9569-84cd855d0e22",
   "metadata": {},
   "outputs": [],
   "source": []
  },
  {
   "cell_type": "code",
   "execution_count": null,
   "id": "4f07a255-cb6c-4b47-90d3-ef9c092d4acb",
   "metadata": {},
   "outputs": [],
   "source": []
  },
  {
   "cell_type": "code",
   "execution_count": null,
   "id": "c85bc6c6-7ecf-440c-9080-91343e072ff4",
   "metadata": {},
   "outputs": [],
   "source": []
  },
  {
   "cell_type": "code",
   "execution_count": null,
   "id": "2142c050-2e6d-42ed-88b1-d4afc66ec070",
   "metadata": {},
   "outputs": [],
   "source": []
  },
  {
   "cell_type": "code",
   "execution_count": null,
   "id": "721738bd-d601-442a-a6b2-6d09ff53a3c9",
   "metadata": {},
   "outputs": [],
   "source": []
  },
  {
   "cell_type": "code",
   "execution_count": null,
   "id": "8bcae5c9-6bfb-4f72-8188-6e8a88835413",
   "metadata": {},
   "outputs": [],
   "source": []
  },
  {
   "cell_type": "code",
   "execution_count": null,
   "id": "04511717-b770-49f1-bb58-3cbb99063beb",
   "metadata": {},
   "outputs": [],
   "source": []
  },
  {
   "cell_type": "code",
   "execution_count": null,
   "id": "ceb13d8d-df8a-499b-b44d-87c3b0928235",
   "metadata": {},
   "outputs": [],
   "source": []
  },
  {
   "cell_type": "code",
   "execution_count": null,
   "id": "3783f9df-b6a2-45a2-8a4c-5facd690e883",
   "metadata": {},
   "outputs": [],
   "source": []
  },
  {
   "cell_type": "code",
   "execution_count": null,
   "id": "7aef0ca7-a8e5-4430-b185-4c5aa83f972b",
   "metadata": {},
   "outputs": [],
   "source": [
    "#/home/marcos/Escritorio/AI-prod/ML-Prod-Example"
   ]
  },
  {
   "cell_type": "code",
   "execution_count": null,
   "id": "974eaa1d-220b-485b-a891-5e495f44e07d",
   "metadata": {},
   "outputs": [],
   "source": []
  },
  {
   "cell_type": "code",
   "execution_count": null,
   "id": "c99af4ee-e4b8-4e72-ac01-66621f92866a",
   "metadata": {},
   "outputs": [],
   "source": []
  },
  {
   "cell_type": "code",
   "execution_count": null,
   "id": "869f46a0-147c-4430-a5ef-a1cb5b4ffa8b",
   "metadata": {},
   "outputs": [],
   "source": []
  },
  {
   "cell_type": "code",
   "execution_count": null,
   "id": "99ee771e-7e38-4a88-9f3f-be1039f64e31",
   "metadata": {},
   "outputs": [],
   "source": []
  }
 ],
 "metadata": {
  "kernelspec": {
   "display_name": "Python 3 (ipykernel)",
   "language": "python",
   "name": "python3"
  },
  "language_info": {
   "codemirror_mode": {
    "name": "ipython",
    "version": 3
   },
   "file_extension": ".py",
   "mimetype": "text/x-python",
   "name": "python",
   "nbconvert_exporter": "python",
   "pygments_lexer": "ipython3",
   "version": "3.10.12"
  }
 },
 "nbformat": 4,
 "nbformat_minor": 5
}
